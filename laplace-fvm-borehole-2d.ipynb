{
 "cells": [
  {
   "cell_type": "code",
   "execution_count": 1,
   "metadata": {
    "execution": {
     "iopub.execute_input": "2023-01-13T09:13:19.194495Z",
     "iopub.status.busy": "2023-01-13T09:13:19.193475Z",
     "iopub.status.idle": "2023-01-13T09:13:19.552337Z",
     "shell.execute_reply": "2023-01-13T09:13:19.551585Z",
     "shell.execute_reply.started": "2023-01-13T08:30:12.995385Z"
    },
    "papermill": {
     "duration": 0.380961,
     "end_time": "2023-01-13T09:13:19.552475",
     "exception": false,
     "start_time": "2023-01-13T09:13:19.171514",
     "status": "completed"
    },
    "tags": []
   },
   "outputs": [],
   "source": [
    "import warnings\n",
    "warnings.filterwarnings(\"ignore\")\n",
    "\n",
    "import math\n",
    "import numpy as np\n",
    "from scipy.special import kv\n",
    "from scipy.sparse import linalg, csc_matrix\n",
    "\n",
    "import matplotlib.pyplot as plt\n",
    "font = {'size'   : 16}\n",
    "plt.rc('font', **font)"
   ]
  },
  {
   "cell_type": "code",
   "execution_count": 2,
   "metadata": {
    "execution": {
     "iopub.execute_input": "2023-01-13T09:13:19.592134Z",
     "iopub.status.busy": "2023-01-13T09:13:19.591103Z",
     "iopub.status.idle": "2023-01-13T09:13:19.598731Z",
     "shell.execute_reply": "2023-01-13T09:13:19.599203Z",
     "shell.execute_reply.started": "2023-01-13T08:30:13.007699Z"
    },
    "papermill": {
     "duration": 0.028996,
     "end_time": "2023-01-13T09:13:19.599355",
     "exception": false,
     "start_time": "2023-01-13T09:13:19.570359",
     "status": "completed"
    },
    "tags": []
   },
   "outputs": [],
   "source": [
    "# Stehfest's inversion method\n",
    "\n",
    "def Vfunction(i, N):\n",
    "    sum1 = 0.\n",
    "    kmin = int(math.floor((i + 1.) / 2.))\n",
    "    kmax = min(i, N)\n",
    "    \n",
    "    for k in range(kmin, kmax+1):\n",
    "        sum1 += (1.*(k**N) * math.factorial(2 * k) / (math.factorial(N - k) * math.factorial(k) * math.factorial(k - 1) * math.factorial(i - k) * math.factorial(2 * k - i)))\n",
    "    \n",
    "    return ((-1.)**(N + i)) * sum1"
   ]
  },
  {
   "cell_type": "code",
   "execution_count": 3,
   "metadata": {
    "execution": {
     "iopub.execute_input": "2023-01-13T09:13:19.637579Z",
     "iopub.status.busy": "2023-01-13T09:13:19.636512Z",
     "iopub.status.idle": "2023-01-13T09:13:19.692306Z",
     "shell.execute_reply": "2023-01-13T09:13:19.691697Z",
     "shell.execute_reply.started": "2023-01-13T08:30:13.021378Z"
    },
    "papermill": {
     "duration": 0.076089,
     "end_time": "2023-01-13T09:13:19.692433",
     "exception": false,
     "start_time": "2023-01-13T09:13:19.616344",
     "status": "completed"
    },
    "tags": []
   },
   "outputs": [],
   "source": [
    "def rigidity_2D_general(s,x,y,nx,ny,cxx,cyy):\n",
    "    nCell = nx*ny\n",
    "    M = np.zeros((nCell,nCell))\n",
    "\n",
    "    for i in range(1,nx-1):\n",
    "        for j in range(1,ny-1):\n",
    "            iCell = i*ny + j\n",
    "\n",
    "            iW = (i-1)*ny + j\n",
    "            iE = (i+1)*ny + j\n",
    "            iS = iCell - 1\n",
    "            iN = iCell + 1\n",
    "            iSW = iW - 1\n",
    "            iNW = iW + 1\n",
    "            iNE = iE + 1\n",
    "            iSE = iE - 1\n",
    "\n",
    "            lx1 = (  (x[i][j+1]-x[i][j-1])/2. + (x[i-1][j+1]-x[i-1][j-1])/2.   ) /2.\n",
    "            ly1 = (  (y[i][j+1]-y[i][j-1])/2. + (y[i-1][j+1]-y[i-1][j-1])/2.   ) /2.\n",
    "\n",
    "            lx3 = -(  (x[i][j+1]-x[i][j-1])/2. + (x[i+1][j+1]-x[i+1][j-1])/2.   ) /2.\n",
    "            ly3 = -(  (y[i][j+1]-y[i][j-1])/2. + (y[i+1][j+1]-y[i+1][j-1])/2.   ) /2.\n",
    "\n",
    "            lx2 = (  (x[i+1][j]-x[i-1][j])/2. + (x[i+1][j+1]-x[i-1][j+1])/2.   ) /2.\n",
    "            ly2 = (  (y[i+1][j]-y[i-1][j])/2. + (y[i+1][j+1]-y[i-1][j+1])/2.   ) /2.\n",
    "\n",
    "            lx4 = -(  (x[i+1][j]-x[i-1][j])/2. + (x[i+1][j-1]-x[i-1][j-1])/2.   ) /2.\n",
    "            ly4 = -(  (y[i+1][j]-y[i-1][j])/2. + (y[i+1][j-1]-y[i-1][j-1])/2.   ) /2.\n",
    "\n",
    "\n",
    "            Ve = (   np.abs(lx1*ly4 - ly1*lx4) + np.abs(lx2*ly3 - ly2*lx3)    ) /2.\n",
    "\n",
    "            # West side\n",
    "            dxdxi = x[i][j] - x[i-1][j] \n",
    "            dydxi = y[i][j] - y[i-1][j]\n",
    "            dxdeta = (  x[i][j+1] - x[i][j-1] + x[i-1][j+1] - x[i-1][j-1] )/4.\n",
    "            dydeta = (  y[i][j+1] - y[i][j-1] + y[i-1][j+1] - y[i-1][j-1] )/4.\n",
    "\n",
    "            detJ = dxdxi*dydeta - dxdeta*dydxi\n",
    "\n",
    "            dxidx = dydeta/detJ\n",
    "            dxidy = -dxdeta/detJ\n",
    "            detadx = -dydxi/detJ\n",
    "            detady = dxdxi/detJ\n",
    "\n",
    "\n",
    "            cxx_av = (cxx[i][j] + cxx[i-1][j]) /2.\n",
    "            cyy_av = (cyy[i][j] + cyy[i-1][j]) /2.\n",
    "            cxy_av = 0.\n",
    "            cyx_av = 0.\n",
    "\n",
    "            c1xi = -1./Ve * dxidx*(cxy_av*lx1 - cxx_av*ly1) -1./Ve * dxidy*(cyy_av*lx1 - cyx_av*ly1)\n",
    "            c1eta = -1./Ve * detadx*(cxy_av*lx1 - cxx_av*ly1) -1./Ve * detady*(cyy_av*lx1 - cyx_av*ly1)\n",
    "\n",
    "\n",
    "            # North side\n",
    "            dxdeta = x[i][j+1] - x[i][j] \n",
    "            dydeta = y[i][j+1] - y[i][j]\n",
    "            dxdxi = (  x[i+1][j] - x[i-1][j] + x[i+1][j+1] - x[i-1][j+1] )/4.\n",
    "            dydxi = (  y[i+1][j] - y[i-1][j] + y[i+1][j+1] - y[i-1][j+1] )/4.\n",
    "\n",
    "            detJ = dxdxi*dydeta - dxdeta*dydxi\n",
    "\n",
    "            dxidx = dydeta/detJ\n",
    "            dxidy = -dxdeta/detJ\n",
    "            detadx = -dydxi/detJ\n",
    "            detady = dxdxi/detJ\n",
    "\n",
    "\n",
    "            cxx_av = (cxx[i][j] + cxx[i][j+1]) /2.\n",
    "            cyy_av = (cyy[i][j] + cyy[i][j+1]) /2.\n",
    "            cxy_av = 0.\n",
    "            cyx_av = 0.\n",
    "\n",
    "            c2xi = -1./Ve * dxidx*(cxy_av*lx2 - cxx_av*ly2) -1./Ve * dxidy*(cyy_av*lx2 - cyx_av*ly2)\n",
    "            c2eta = -1./Ve * detadx*(cxy_av*lx2 - cxx_av*ly2) -1./Ve * detady*(cyy_av*lx2 - cyx_av*ly2)\n",
    "\n",
    "            # East side\n",
    "            dxdxi = x[i+1][j] - x[i][j] \n",
    "            dydxi = y[i+1][j] - y[i][j]\n",
    "            dxdeta = (  x[i][j+1] - x[i][j-1] + x[i+1][j+1] - x[i+1][j-1] )/4.\n",
    "            dydeta = (  y[i][j+1] - y[i][j-1] + y[i+1][j+1] - y[i+1][j-1] )/4.\n",
    "\n",
    "            detJ = dxdxi*dydeta - dxdeta*dydxi\n",
    "\n",
    "            dxidx = dydeta/detJ\n",
    "            dxidy = -dxdeta/detJ\n",
    "            detadx = -dydxi/detJ\n",
    "            detady = dxdxi/detJ\n",
    "\n",
    "\n",
    "            cxx_av = (cxx[i][j] + cxx[i+1][j]) /2.\n",
    "            cyy_av = (cyy[i][j] + cyy[i+1][j]) /2.\n",
    "            cxy_av = 0.\n",
    "            cyx_av = 0.\n",
    "\n",
    "            c3xi = -1./Ve * dxidx*(cxy_av*lx3 - cxx_av*ly3) -1./Ve * dxidy*(cyy_av*lx3 - cyx_av*ly3)\n",
    "            c3eta = -1./Ve * detadx*(cxy_av*lx3 - cxx_av*ly3) -1./Ve * detady*(cyy_av*lx3 - cyx_av*ly3)\n",
    "\n",
    "            # South side\n",
    "            dxdeta = x[i][j] - x[i][j-1] \n",
    "            dydeta = y[i][j] - y[i][j-1]\n",
    "            dxdxi = (  x[i+1][j] - x[i-1][j] + x[i+1][j-1] - x[i-1][j-1] )/4.\n",
    "            dydxi = (  y[i+1][j] - y[i-1][j] + y[i+1][j-1] - y[i-1][j-1] )/4.\n",
    "\n",
    "            detJ = dxdxi*dydeta - dxdeta*dydxi\n",
    "\n",
    "            dxidx = dydeta/detJ\n",
    "            dxidy = -dxdeta/detJ\n",
    "            detadx = -dydxi/detJ\n",
    "            detady = dxdxi/detJ\n",
    "\n",
    "\n",
    "            cxx_av = (cxx[i][j] + cxx[i][j-1]) /2.\n",
    "            cyy_av = (cyy[i][j] + cyy[i][j-1]) /2.\n",
    "            cxy_av = 0.\n",
    "            cyx_av = 0.\n",
    "\n",
    "            c4xi = -1./Ve * dxidx*(cxy_av*lx4 - cxx_av*ly4) -1./Ve * dxidy*(cyy_av*lx4 - cyx_av*ly4)\n",
    "            c4eta = -1./Ve * detadx*(cxy_av*lx4 - cxx_av*ly4) -1./Ve * detady*(cyy_av*lx4 - cyx_av*ly4)\n",
    "\n",
    "\n",
    "\n",
    "\n",
    "            M[iCell][iCell] = s + c1xi - c2eta - c3xi + c4eta\n",
    "\n",
    "            M[iCell][iW] = -(c1xi + c2xi/4. + c4xi/4.)    \n",
    "            M[iCell][iN] = c2eta + c1eta/4. + c3eta/4.    \n",
    "            M[iCell][iE] = c3xi + c2xi/4. + c4xi/4.\n",
    "            M[iCell][iS] = -(c4eta + c1eta/4. + c3eta/4.)\n",
    "\n",
    "            M[iCell][iSW] = -(c1eta/4. + c4xi/4.)    \n",
    "            M[iCell][iNW] = c1eta/4. - c2xi/4. \n",
    "            M[iCell][iNE] = c2xi/4. + c3eta/4.\n",
    "            M[iCell][iSE] = -(c3eta/4. - c4xi/4.)\n",
    "\n",
    "    return M\n",
    "\n",
    "def BC_pressure_M(M,\n",
    "                iCell):\n",
    "    M[iCell,:] = 0\n",
    "    M[iCell][iCell] = 1 \n",
    "        \n",
    "\n",
    "def BC_flowRate_M(M,\n",
    "               iCell,\n",
    "               iNeighbor):    \n",
    "    M[iCell,:] = 0\n",
    "    M[iCell][iCell] = 1\n",
    "    M[iCell][iNeighbor] = -1\n",
    "    \n",
    "def BC_pressure_f(f,\n",
    "             iCell,\n",
    "             pCell):\n",
    "    f[iCell] = pCell"
   ]
  },
  {
   "cell_type": "code",
   "execution_count": 4,
   "metadata": {
    "_cell_guid": "b1076dfc-b9ad-4769-8c92-a6c4dae69d19",
    "_uuid": "8f2839f25d086af736a60e9eeb907d3b93b6e0e5",
    "execution": {
     "iopub.execute_input": "2023-01-13T09:13:19.732352Z",
     "iopub.status.busy": "2023-01-13T09:13:19.731323Z",
     "iopub.status.idle": "2023-01-13T09:13:19.737297Z",
     "shell.execute_reply": "2023-01-13T09:13:19.737888Z",
     "shell.execute_reply.started": "2023-01-13T08:30:13.089449Z"
    },
    "papermill": {
     "duration": 0.026762,
     "end_time": "2023-01-13T09:13:19.738081",
     "exception": false,
     "start_time": "2023-01-13T09:13:19.711319",
     "status": "completed"
    },
    "tags": []
   },
   "outputs": [],
   "source": [
    "def solve(matrixR,vectorF):\n",
    "    # Direct solvers ####################################\n",
    "    #return np.linalg.solve(matrixR,vectorF)\n",
    "    #return scipy.linalg.solve(matrixR,vectorF)\n",
    "\n",
    "\n",
    "\n",
    "    return linalg.spsolve(csc_matrix(matrixR, dtype=float), csc_matrix(vectorF, dtype=float)) # only for nCells <= 100 x 100\n",
    "\n",
    "\n",
    "\n",
    "    #return scipy.sparse.linalg.splu(matrixR).solve(vectorF)\n",
    "\n",
    "\n",
    "    # Iterative solvers###################################\n",
    "    # Minimal residual iterative method (krylov) # can reach to nCells = 400 x 400 or more\n",
    "    '''\n",
    "    A = csc_matrix(matrixR, dtype=float)\n",
    "    A = A + A.T\n",
    "    vectorU, exitCode = sp.sparse.linalg.minres(A, vectorF,tol=1e-100, maxiter=10000, show=False)\n",
    "    return vectorU'''"
   ]
  },
  {
   "cell_type": "code",
   "execution_count": 5,
   "metadata": {
    "execution": {
     "iopub.execute_input": "2023-01-13T09:13:19.777552Z",
     "iopub.status.busy": "2023-01-13T09:13:19.776840Z",
     "iopub.status.idle": "2023-01-13T09:13:19.788169Z",
     "shell.execute_reply": "2023-01-13T09:13:19.788729Z",
     "shell.execute_reply.started": "2023-01-13T08:30:13.180432Z"
    },
    "papermill": {
     "duration": 0.032702,
     "end_time": "2023-01-13T09:13:19.788924",
     "exception": false,
     "start_time": "2023-01-13T09:13:19.756222",
     "status": "completed"
    },
    "tags": []
   },
   "outputs": [],
   "source": [
    "def Laplace_FVM(pIn,\n",
    "                pOut,\n",
    "                x, # x coordinate of the cell centers\n",
    "                y, # y coordinate of the cell centers\n",
    "                nx, # number of cell in each row\n",
    "                ny, # number of cell in each column\n",
    "                cxx, # diffusivity xx\n",
    "                cyy, # diffusivity yy\n",
    "                t, # diffusion time\n",
    "                nStehfest\n",
    "                ): \n",
    "    # Force\n",
    "    nCell = nx*ny\n",
    "    f = np.zeros(nCell)\n",
    "    \n",
    "    for i in range(1,ny-1):\n",
    "        BC_pressure_f(f,i,pIn)\n",
    "        BC_pressure_f(f,nCell-1-i,pOut)\n",
    "     \n",
    "    f = f.reshape(len(f),1)\n",
    "    \n",
    "    # Solving the linear equation system by the fast Laplace-Stehfest method\n",
    "    sum_p = np.zeros(nCell)\n",
    "\n",
    "    for j in range(1,2*nStehfest+1):\n",
    "        s = j * np.log(2.) / t\n",
    "        M = rigidity_2D_general(s,x,y,nx,ny,cxx,cyy)\n",
    "\n",
    "        # Pressure boundary conditions\n",
    "        for i in range(1,ny-1):\n",
    "            BC_pressure_M(M,i)\n",
    "            BC_pressure_M(M,nCell-1-i)\n",
    "            \n",
    "        # Lateral impermeability    \n",
    "        for i in range(0,nx):\n",
    "            BC_flowRate_M(M,i*ny, i*ny+1)\n",
    "            BC_flowRate_M(M,(i+1)*ny-1, (i+1)*ny-2)\n",
    "\n",
    "            \n",
    "        p = solve(M,f/s)\n",
    "        sum_p += Vfunction(j,nStehfest) * p\n",
    "\n",
    "    p = sum_p * np.log(2.) / t\n",
    "    return p"
   ]
  },
  {
   "cell_type": "code",
   "execution_count": 6,
   "metadata": {
    "execution": {
     "iopub.execute_input": "2023-01-13T09:13:19.826969Z",
     "iopub.status.busy": "2023-01-13T09:13:19.826271Z",
     "iopub.status.idle": "2023-01-13T09:13:19.838081Z",
     "shell.execute_reply": "2023-01-13T09:13:19.838625Z",
     "shell.execute_reply.started": "2023-01-13T08:30:13.201639Z"
    },
    "papermill": {
     "duration": 0.032483,
     "end_time": "2023-01-13T09:13:19.838818",
     "exception": false,
     "start_time": "2023-01-13T09:13:19.806335",
     "status": "completed"
    },
    "tags": []
   },
   "outputs": [],
   "source": [
    "def implicit_FVM(pIn,\n",
    "                 pOut,\n",
    "                 x, # x coordinate of the cell centers\n",
    "                 y, # y coordinate of the cell centers\n",
    "                 nx, # number of cell in each row\n",
    "                 ny, # number of cell in each column\n",
    "                 cxx, # diffusivity xx\n",
    "                 cyy, # diffusivity yy\n",
    "                 t, # diffusion time\n",
    "                 nTime # Number of time steps\n",
    "                 ): \n",
    "    # Force\n",
    "    nCell = nx*ny\n",
    "    f = np.zeros(nCell)\n",
    "    \n",
    "    for i in range(1,ny-1):\n",
    "        BC_pressure_f(f,i,pIn)\n",
    "        BC_pressure_f(f,nCell-1-i,pOut)\n",
    "        \n",
    "    f = f.reshape(len(f),1)\n",
    "    \n",
    "    # Solving the linear equation system by using the implicit method\n",
    "    dt = t/nTime\n",
    "    for i in range(0,nTime):\n",
    "        M = rigidity_2D_general(1./dt,x,y,nx,ny,cxx,cyy)\n",
    "\n",
    "        # Pressure boundary conditions\n",
    "        for i in range(1,ny-1):\n",
    "            BC_pressure_M(M,i)\n",
    "            BC_pressure_M(M,nCell-1-i)\n",
    "\n",
    "        # Lateral impermeability    \n",
    "        for i in range(0,nx):\n",
    "            BC_flowRate_M(M,i*ny, i*ny+1)\n",
    "            BC_flowRate_M(M,(i+1)*ny-1, (i+1)*ny-2)\n",
    "\n",
    "        p = solve(M,f)\n",
    "        \n",
    "        # Update force for next step\n",
    "        f = p/dt\n",
    "        for i in range(1,ny-1):\n",
    "            BC_pressure_f(f,i,pIn)\n",
    "            BC_pressure_f(f,nCell-1-i,pOut)\n",
    "\n",
    "        f = f.reshape(len(f),1)\n",
    "    return p"
   ]
  },
  {
   "cell_type": "markdown",
   "metadata": {
    "papermill": {
     "duration": 0.017729,
     "end_time": "2023-01-13T09:13:19.874058",
     "exception": false,
     "start_time": "2023-01-13T09:13:19.856329",
     "status": "completed"
    },
    "tags": []
   },
   "source": [
    "### Example 1: Base case: isotropic vs Detournay and Cheng 1988"
   ]
  },
  {
   "cell_type": "code",
   "execution_count": 7,
   "metadata": {
    "execution": {
     "iopub.execute_input": "2023-01-13T09:13:19.912340Z",
     "iopub.status.busy": "2023-01-13T09:13:19.911665Z",
     "iopub.status.idle": "2023-01-13T09:13:19.922380Z",
     "shell.execute_reply": "2023-01-13T09:13:19.921849Z",
     "shell.execute_reply.started": "2023-01-13T08:30:13.218658Z"
    },
    "papermill": {
     "duration": 0.031072,
     "end_time": "2023-01-13T09:13:19.922543",
     "exception": false,
     "start_time": "2023-01-13T09:13:19.891471",
     "status": "completed"
    },
    "tags": []
   },
   "outputs": [],
   "source": [
    "pIn = 10e6\n",
    "pOut = 0\n",
    "r0 = 0.1\n",
    "Lx = 1.\n",
    "Ly = 1.\n",
    "\n",
    "nx = 100\n",
    "ny = 100\n",
    "x, y = np.mgrid[0:Lx:nx*1j, 0:Ly:ny*1j]\n",
    "\n",
    "theta = y/Ly*np.pi/2.\n",
    "r = r0 + x\n",
    "x = r*np.cos(theta)\n",
    "y = r*np.sin(theta)\n",
    "\n",
    "t = 60\n",
    "\n",
    "muf = 1e-3\n",
    "\n",
    "c_fluid = 5e-10\n",
    "kappa = 1e-17/muf\n",
    "phi = 0.1\n",
    "\n",
    "# Biot's modulus\n",
    "M = 1./(phi*c_fluid)\n",
    "\n",
    "# Diffusion coefficient\n",
    "c = kappa * M\n",
    "\n",
    "\n",
    "cxx = c*np.ones( (nx,ny) )\n",
    "cyy = cxx"
   ]
  },
  {
   "cell_type": "code",
   "execution_count": 8,
   "metadata": {
    "execution": {
     "iopub.execute_input": "2023-01-13T09:13:19.963189Z",
     "iopub.status.busy": "2023-01-13T09:13:19.962444Z",
     "iopub.status.idle": "2023-01-13T09:13:19.965693Z",
     "shell.execute_reply": "2023-01-13T09:13:19.965147Z",
     "shell.execute_reply.started": "2023-01-13T08:30:13.241930Z"
    },
    "papermill": {
     "duration": 0.025927,
     "end_time": "2023-01-13T09:13:19.965845",
     "exception": false,
     "start_time": "2023-01-13T09:13:19.939918",
     "status": "completed"
    },
    "tags": []
   },
   "outputs": [],
   "source": [
    "list_p_Laplace = []\n",
    "list_p_anal = []\n",
    "list_t = [10,30,60]"
   ]
  },
  {
   "cell_type": "code",
   "execution_count": 9,
   "metadata": {
    "execution": {
     "iopub.execute_input": "2023-01-13T09:13:20.007241Z",
     "iopub.status.busy": "2023-01-13T09:13:20.006262Z",
     "iopub.status.idle": "2023-01-13T09:14:12.502976Z",
     "shell.execute_reply": "2023-01-13T09:14:12.503530Z",
     "shell.execute_reply.started": "2023-01-13T08:30:13.252452Z"
    },
    "papermill": {
     "duration": 52.520519,
     "end_time": "2023-01-13T09:14:12.503709",
     "exception": false,
     "start_time": "2023-01-13T09:13:19.983190",
     "status": "completed"
    },
    "tags": []
   },
   "outputs": [
    {
     "name": "stdout",
     "output_type": "stream",
     "text": [
      "CPU times: user 53.5 s, sys: 5.11 s, total: 58.7 s\n",
      "Wall time: 52.5 s\n"
     ]
    }
   ],
   "source": [
    "%%time\n",
    "for t in list_t:\n",
    "    p_Laplace = Laplace_FVM(pIn,pOut,x,y,nx,ny,cxx,cyy,t,4)\n",
    "    #p_implicit = implicit_FVM(pIn,pOut,x,y,nx,ny,cxx,cyy,t,10)\n",
    "    \n",
    "    list_p_Laplace.append(p_Laplace.reshape(nx,ny))"
   ]
  },
  {
   "cell_type": "markdown",
   "metadata": {
    "papermill": {
     "duration": 0.017473,
     "end_time": "2023-01-13T09:14:12.538972",
     "exception": false,
     "start_time": "2023-01-13T09:14:12.521499",
     "status": "completed"
    },
    "tags": []
   },
   "source": [
    "### Analytical results (Detournay and Cheng 1988)"
   ]
  },
  {
   "cell_type": "code",
   "execution_count": 10,
   "metadata": {
    "execution": {
     "iopub.execute_input": "2023-01-13T09:14:12.583025Z",
     "iopub.status.busy": "2023-01-13T09:14:12.577324Z",
     "iopub.status.idle": "2023-01-13T09:14:12.587916Z",
     "shell.execute_reply": "2023-01-13T09:14:12.588424Z",
     "shell.execute_reply.started": "2023-01-13T08:31:07.425717Z"
    },
    "papermill": {
     "duration": 0.03195,
     "end_time": "2023-01-13T09:14:12.588583",
     "exception": false,
     "start_time": "2023-01-13T09:14:12.556633",
     "status": "completed"
    },
    "tags": []
   },
   "outputs": [],
   "source": [
    "def inLaplace_mode2(s, r, ri, p0, pi, c):\n",
    "    xi = r*(s/c)**0.5\n",
    "    beta = ri*(s/c)**0.5\n",
    "\n",
    "    p_2 = -(p0-pi)/s * kv(0.,xi) / kv(0.,beta)\n",
    "    return p_2\n",
    "\n",
    "def inTime_mode2(t, r, ri, p0, pi, c):    \n",
    "    N = 5\n",
    "    sum1 = 0.\n",
    "    for j in range(1,2*N+1):\n",
    "        Lresult = inLaplace_mode2(j * np.log(2.) / t, r, ri, p0, pi, c)\n",
    "\n",
    "        sum1 += Vfunction(j, N) * Lresult\n",
    "    return sum1* np.log(2.) / t"
   ]
  },
  {
   "cell_type": "code",
   "execution_count": 11,
   "metadata": {
    "execution": {
     "iopub.execute_input": "2023-01-13T09:14:12.630136Z",
     "iopub.status.busy": "2023-01-13T09:14:12.627410Z",
     "iopub.status.idle": "2023-01-13T09:14:12.776243Z",
     "shell.execute_reply": "2023-01-13T09:14:12.775642Z",
     "shell.execute_reply.started": "2023-01-13T08:31:07.439623Z"
    },
    "papermill": {
     "duration": 0.170278,
     "end_time": "2023-01-13T09:14:12.776390",
     "exception": false,
     "start_time": "2023-01-13T09:14:12.606112",
     "status": "completed"
    },
    "tags": []
   },
   "outputs": [
    {
     "name": "stdout",
     "output_type": "stream",
     "text": [
      "CPU times: user 171 ms, sys: 1.01 ms, total: 172 ms\n",
      "Wall time: 140 ms\n"
     ]
    }
   ],
   "source": [
    "%%time\n",
    "r = ( x**2. + y**2. )**0.5\n",
    "for t in list_t:\n",
    "    p_anal = - inTime_mode2(t, r, r0, pIn, pOut, c)\n",
    "    list_p_anal.append(p_anal)"
   ]
  },
  {
   "cell_type": "code",
   "execution_count": 12,
   "metadata": {
    "execution": {
     "iopub.execute_input": "2023-01-13T09:14:12.822423Z",
     "iopub.status.busy": "2023-01-13T09:14:12.821640Z",
     "iopub.status.idle": "2023-01-13T09:14:13.395005Z",
     "shell.execute_reply": "2023-01-13T09:14:13.395477Z",
     "shell.execute_reply.started": "2023-01-13T08:31:07.604222Z"
    },
    "papermill": {
     "duration": 0.601391,
     "end_time": "2023-01-13T09:14:13.395666",
     "exception": false,
     "start_time": "2023-01-13T09:14:12.794275",
     "status": "completed"
    },
    "tags": []
   },
   "outputs": [
    {
     "data": {
      "image/png": "[encoded data removed]",
      "text/plain": [
       "<Figure size 1296x504 with 4 Axes>"
      ]
     },
     "metadata": {
      "needs_background": "light"
     },
     "output_type": "display_data"
    }
   ],
   "source": [
    "\n",
    "fig = plt.figure(figsize=[18,7])\n",
    "plt.subplot(121)\n",
    "plt.pcolor(x, y, list_p_Laplace[-1], cmap = 'jet', vmin=0, vmax=10e6)\n",
    "plt.title('This model')\n",
    "plt.axis('off')\n",
    "clb = plt.colorbar()\n",
    "clb.set_label('(Pa)', labelpad=-10, y=1.07, rotation=0)\n",
    "\n",
    "plt.subplot(122)\n",
    "plt.pcolor(x, y, list_p_anal[-1], cmap = 'jet', vmin=0, vmax=10e6)\n",
    "plt.title('Detournay and Cheng (1988)')\n",
    "plt.axis('off')\n",
    "clb = plt.colorbar()\n",
    "clb.set_label('(Pa)', labelpad=-10, y=1.07, rotation=0)\n",
    "plt.show()"
   ]
  },
  {
   "cell_type": "code",
   "execution_count": 13,
   "metadata": {
    "execution": {
     "iopub.execute_input": "2023-01-13T09:14:13.437591Z",
     "iopub.status.busy": "2023-01-13T09:14:13.436896Z",
     "iopub.status.idle": "2023-01-13T09:14:13.655761Z",
     "shell.execute_reply": "2023-01-13T09:14:13.656289Z",
     "shell.execute_reply.started": "2023-01-13T08:31:08.236374Z"
    },
    "papermill": {
     "duration": 0.241567,
     "end_time": "2023-01-13T09:14:13.656463",
     "exception": false,
     "start_time": "2023-01-13T09:14:13.414896",
     "status": "completed"
    },
    "tags": []
   },
   "outputs": [
    {
     "data": {
      "image/png": "[encoded data removed]",
      "text/plain": [
       "<Figure size 720x540 with 1 Axes>"
      ]
     },
     "metadata": {
      "needs_background": "light"
     },
     "output_type": "display_data"
    }
   ],
   "source": [
    "fig = plt.figure(figsize=[10.,7.5])\n",
    "plt.subplot(111)\n",
    "\n",
    "list_colors = ['r','b','g']\n",
    "list_markers = ['o','s','v']\n",
    "list_line_styles = ['-.', '--','-']\n",
    "\n",
    "for idx in range(len(list_t)):\n",
    "    \n",
    "    p_LFVM = []\n",
    "    p_ANAL = []\n",
    "    r_coords = []\n",
    "\n",
    "    for i in range(0, nx):\n",
    "        p_LFVM.append(list_p_Laplace[idx][i][0]/1e6)\n",
    "        p_ANAL.append(list_p_anal[idx][i][0]/1e6)\n",
    "        r_coords.append(x[i][0])\n",
    "\n",
    "\n",
    "    plt.plot(r_coords,p_LFVM,linestyle=list_line_styles[idx],color=list_colors[idx],label='This model, t = '+str(list_t[idx])+' (s)')\n",
    "    plt.plot(r_coords,p_ANAL,list_markers[idx],color=list_colors[idx],label='Analytic, t = '+str(list_t[idx])+' (s)')\n",
    "plt.xlabel('r (m)')\n",
    "plt.ylabel('Pore pressure p (MPa)')\n",
    "plt.xlim(0.1,0.5)\n",
    "plt.ylim(0,10)\n",
    "plt.legend()\n",
    "#plt.title('t = ' + str(t) + ' (s)')\n",
    "plt.show()"
   ]
  },
  {
   "cell_type": "markdown",
   "metadata": {
    "papermill": {
     "duration": 0.020084,
     "end_time": "2023-01-13T09:14:13.697082",
     "exception": false,
     "start_time": "2023-01-13T09:14:13.676998",
     "status": "completed"
    },
    "tags": []
   },
   "source": [
    "Example 2: Anisotropic case - horizontal well"
   ]
  },
  {
   "cell_type": "code",
   "execution_count": 14,
   "metadata": {
    "execution": {
     "iopub.execute_input": "2023-01-13T09:14:13.742219Z",
     "iopub.status.busy": "2023-01-13T09:14:13.741265Z",
     "iopub.status.idle": "2023-01-13T09:14:13.750583Z",
     "shell.execute_reply": "2023-01-13T09:14:13.751104Z",
     "shell.execute_reply.started": "2023-01-13T08:31:08.490694Z"
    },
    "papermill": {
     "duration": 0.033554,
     "end_time": "2023-01-13T09:14:13.751261",
     "exception": false,
     "start_time": "2023-01-13T09:14:13.717707",
     "status": "completed"
    },
    "tags": []
   },
   "outputs": [],
   "source": [
    "pIn = 10e6\n",
    "pOut = 0\n",
    "r0 = 0.1\n",
    "Lx = 1.\n",
    "Ly = 1.\n",
    "\n",
    "nx = 100\n",
    "ny = 100\n",
    "x, y = np.mgrid[0:Lx:nx*1j, 0:Ly:ny*1j]\n",
    "\n",
    "theta = y/Ly*np.pi/2.\n",
    "r = r0 + x\n",
    "x = r*np.cos(theta)\n",
    "y = r*np.sin(theta)\n",
    "\n",
    "t = 3600\n",
    "\n",
    "muf = 1e-3\n",
    "\n",
    "c_fluid = 5e-10\n",
    "kappa = 1e-17/muf\n",
    "phi = 0.1\n",
    "\n",
    "# Biot's modulus\n",
    "M = 1./(phi*c_fluid)\n",
    "\n",
    "# Diffusion coefficient\n",
    "c = kappa * M\n",
    "\n",
    "\n",
    "cxx = c*np.ones( (nx,ny) )\n",
    "cyy = 0.1*cxx"
   ]
  },
  {
   "cell_type": "code",
   "execution_count": 15,
   "metadata": {
    "execution": {
     "iopub.execute_input": "2023-01-13T09:14:13.796136Z",
     "iopub.status.busy": "2023-01-13T09:14:13.795149Z",
     "iopub.status.idle": "2023-01-13T09:14:13.799608Z",
     "shell.execute_reply": "2023-01-13T09:14:13.800128Z",
     "shell.execute_reply.started": "2023-01-13T08:31:08.505864Z"
    },
    "papermill": {
     "duration": 0.02858,
     "end_time": "2023-01-13T09:14:13.800289",
     "exception": false,
     "start_time": "2023-01-13T09:14:13.771709",
     "status": "completed"
    },
    "tags": []
   },
   "outputs": [],
   "source": [
    "list_p_Laplace = []\n",
    "list_p_implicit = []\n",
    "list_t = [10,30,60]"
   ]
  },
  {
   "cell_type": "code",
   "execution_count": 16,
   "metadata": {
    "execution": {
     "iopub.execute_input": "2023-01-13T09:14:13.845080Z",
     "iopub.status.busy": "2023-01-13T09:14:13.844067Z",
     "iopub.status.idle": "2023-01-13T09:15:08.018576Z",
     "shell.execute_reply": "2023-01-13T09:15:08.019162Z",
     "shell.execute_reply.started": "2023-01-13T08:31:08.521875Z"
    },
    "papermill": {
     "duration": 54.198668,
     "end_time": "2023-01-13T09:15:08.019329",
     "exception": false,
     "start_time": "2023-01-13T09:14:13.820661",
     "status": "completed"
    },
    "tags": []
   },
   "outputs": [
    {
     "name": "stdout",
     "output_type": "stream",
     "text": [
      "CPU times: user 54.4 s, sys: 5 s, total: 59.4 s\n",
      "Wall time: 54.1 s\n"
     ]
    }
   ],
   "source": [
    "%%time\n",
    "for t in list_t:\n",
    "    p_Laplace = Laplace_FVM(pIn,pOut,x,y,nx,ny,cxx,cyy,t,4)\n",
    "    \n",
    "    list_p_Laplace.append(p_Laplace.reshape(nx,ny))"
   ]
  },
  {
   "cell_type": "code",
   "execution_count": 17,
   "metadata": {
    "execution": {
     "iopub.execute_input": "2023-01-13T09:15:08.072883Z",
     "iopub.status.busy": "2023-01-13T09:15:08.067491Z",
     "iopub.status.idle": "2023-01-13T09:26:24.046492Z",
     "shell.execute_reply": "2023-01-13T09:26:24.047052Z",
     "shell.execute_reply.started": "2023-01-13T08:56:56.348329Z"
    },
    "papermill": {
     "duration": 676.006979,
     "end_time": "2023-01-13T09:26:24.047222",
     "exception": false,
     "start_time": "2023-01-13T09:15:08.040243",
     "status": "completed"
    },
    "tags": []
   },
   "outputs": [
    {
     "name": "stdout",
     "output_type": "stream",
     "text": [
      "CPU times: user 11min 18s, sys: 1min 5s, total: 12min 23s\n",
      "Wall time: 11min 15s\n"
     ]
    }
   ],
   "source": [
    "%%time\n",
    "for t in list_t:\n",
    "    p_implicit = implicit_FVM(pIn,pOut,x,y,nx,ny,cxx,cyy,t,100)\n",
    "    list_p_implicit.append(p_implicit.reshape(nx,ny))"
   ]
  },
  {
   "cell_type": "code",
   "execution_count": 18,
   "metadata": {
    "execution": {
     "iopub.execute_input": "2023-01-13T09:26:24.093936Z",
     "iopub.status.busy": "2023-01-13T09:26:24.092938Z",
     "iopub.status.idle": "2023-01-13T09:26:24.712286Z",
     "shell.execute_reply": "2023-01-13T09:26:24.712880Z",
     "shell.execute_reply.started": "2023-01-13T09:05:29.450616Z"
    },
    "papermill": {
     "duration": 0.644841,
     "end_time": "2023-01-13T09:26:24.713047",
     "exception": false,
     "start_time": "2023-01-13T09:26:24.068206",
     "status": "completed"
    },
    "tags": []
   },
   "outputs": [
    {
     "data": {
      "image/png": "[encoded data removed]",
      "text/plain": [
       "<Figure size 1296x504 with 3 Axes>"
      ]
     },
     "metadata": {
      "needs_background": "light"
     },
     "output_type": "display_data"
    }
   ],
   "source": [
    "fig = plt.figure(figsize=[18,7])\n",
    "plt.subplot(121)\n",
    "plt.pcolor(x, y, list_p_Laplace[0], cmap = 'jet', vmin=0, vmax=10e6)\n",
    "#plt.title('This model')\n",
    "plt.axis('off')\n",
    "plt.xlim(0,5*r0)\n",
    "plt.ylim(0,5*r0)\n",
    "#clb = plt.colorbar()\n",
    "#clb.set_label('(Pa)', labelpad=-10, y=1.07, rotation=0)\n",
    "plt.title('t = '+str(list_t[0])+' (s)')\n",
    "\n",
    "plt.subplot(122)\n",
    "plt.pcolor(x, y, list_p_implicit[0], cmap = 'jet', vmin=0, vmax=10e6)\n",
    "#plt.title('This model')\n",
    "plt.axis('off')\n",
    "plt.xlim(0,5*r0)\n",
    "plt.ylim(0,5*r0)\n",
    "clb = plt.colorbar()\n",
    "clb.set_label('(Pa)', labelpad=-10, y=1.07, rotation=0)\n",
    "plt.title('t = '+str(list_t[-1])+' (s)')\n",
    "\n",
    "plt.show()"
   ]
  },
  {
   "cell_type": "code",
   "execution_count": 19,
   "metadata": {
    "execution": {
     "iopub.execute_input": "2023-01-13T09:26:24.781232Z",
     "iopub.status.busy": "2023-01-13T09:26:24.775657Z",
     "iopub.status.idle": "2023-01-13T09:26:25.321457Z",
     "shell.execute_reply": "2023-01-13T09:26:25.322096Z",
     "shell.execute_reply.started": "2023-01-13T09:01:55.865352Z"
    },
    "papermill": {
     "duration": 0.586127,
     "end_time": "2023-01-13T09:26:25.322290",
     "exception": false,
     "start_time": "2023-01-13T09:26:24.736163",
     "status": "completed"
    },
    "tags": []
   },
   "outputs": [
    {
     "data": {
      "image/png": "[encoded data removed]",
      "text/plain": [
       "<Figure size 1080x540 with 2 Axes>"
      ]
     },
     "metadata": {
      "needs_background": "light"
     },
     "output_type": "display_data"
    }
   ],
   "source": [
    "fig = plt.figure(figsize=[15.,7.5])\n",
    "\n",
    "list_colors = ['r','b','g']\n",
    "list_markers = ['o','s','v']\n",
    "list_line_styles = ['-.', '--','-']\n",
    "\n",
    "plt.subplot(121)\n",
    "for idx in range(len(list_t)):\n",
    "    \n",
    "    p_LFVM = []\n",
    "    p_implicit = []\n",
    "    r_coords = []\n",
    "\n",
    "    for i in range(0, nx):\n",
    "        p_LFVM.append(list_p_Laplace[idx][i][0]/1e6)\n",
    "        p_implicit.append(list_p_implicit[idx][i][0]/1e6)\n",
    "        r_coords.append(x[i][0])\n",
    "\n",
    "\n",
    "    plt.plot(r_coords,p_LFVM,linestyle=list_line_styles[idx],color=list_colors[idx],label='This model, t = '+str(list_t[idx])+' (s)')\n",
    "    plt.plot(r_coords,p_implicit,list_markers[idx],color=list_colors[idx],label='Classical model, t = '+str(list_t[idx])+' (s)')\n",
    "plt.xlabel('r (m)')\n",
    "plt.ylabel('Pore pressure p (MPa)')\n",
    "plt.xlim(0.1,0.5)\n",
    "plt.ylim(0,10)\n",
    "plt.legend()\n",
    "plt.title(r'$\\theta$=0')\n",
    "\n",
    "plt.subplot(122)\n",
    "for idx in range(len(list_t)):\n",
    "    \n",
    "    p_LFVM = []\n",
    "    p_implicit = []\n",
    "    r_coords = []\n",
    "\n",
    "    for i in range(0, nx):\n",
    "        p_LFVM.append(list_p_Laplace[idx][i][-1]/1e6)\n",
    "        p_implicit.append(list_p_implicit[idx][i][-1]/1e6)\n",
    "        r_coords.append(y[i][-1])\n",
    "\n",
    "\n",
    "    plt.plot(r_coords,p_LFVM,linestyle=list_line_styles[idx],color=list_colors[idx],label='This model, t = '+str(list_t[idx])+' (s)')\n",
    "    plt.plot(r_coords,p_implicit,list_markers[idx],color=list_colors[idx],label='Classical model, t = '+str(list_t[idx])+' (s)')\n",
    "plt.xlabel('r (m)')\n",
    "#plt.ylabel('Pore pressure p (MPa)')\n",
    "plt.xlim(0.1,0.3)\n",
    "plt.ylim(0,10)\n",
    "plt.title(r'$\\theta$=90')\n",
    "#plt.legend()\n",
    "\n",
    "plt.show()"
   ]
  },
  {
   "cell_type": "code",
   "execution_count": 20,
   "metadata": {
    "execution": {
     "iopub.execute_input": "2023-01-13T09:26:25.380255Z",
     "iopub.status.busy": "2023-01-13T09:26:25.379489Z",
     "iopub.status.idle": "2023-01-13T09:26:25.384806Z",
     "shell.execute_reply": "2023-01-13T09:26:25.385440Z",
     "shell.execute_reply.started": "2023-01-13T09:01:29.675178Z"
    },
    "papermill": {
     "duration": 0.035313,
     "end_time": "2023-01-13T09:26:25.385614",
     "exception": false,
     "start_time": "2023-01-13T09:26:25.350301",
     "status": "completed"
    },
    "tags": []
   },
   "outputs": [
    {
     "data": {
      "text/plain": [
       "100"
      ]
     },
     "execution_count": 20,
     "metadata": {},
     "output_type": "execute_result"
    }
   ],
   "source": [
    "len(r_coords)"
   ]
  },
  {
   "cell_type": "code",
   "execution_count": 21,
   "metadata": {
    "execution": {
     "iopub.execute_input": "2023-01-13T09:26:25.443669Z",
     "iopub.status.busy": "2023-01-13T09:26:25.443018Z",
     "iopub.status.idle": "2023-01-13T09:26:25.451012Z",
     "shell.execute_reply": "2023-01-13T09:26:25.450317Z",
     "shell.execute_reply.started": "2023-01-13T09:02:33.332300Z"
    },
    "papermill": {
     "duration": 0.037616,
     "end_time": "2023-01-13T09:26:25.451140",
     "exception": false,
     "start_time": "2023-01-13T09:26:25.413524",
     "status": "completed"
    },
    "tags": []
   },
   "outputs": [
    {
     "data": {
      "text/plain": [
       "[2.295970061229771e+23,\n",
       " 4.710631250312562e+102,\n",
       " 2.832275562084088e+102,\n",
       " 9.835621721708898e+101,\n",
       " 2.5609903022250945e+101,\n",
       " 5.543382581529864e+100,\n",
       " 1.0534906189738704e+100,\n",
       " 1.8173409865307904e+99,\n",
       " 2.9092340991312737e+98,\n",
       " 4.389125918723269e+97,\n",
       " 6.31156867530089e+96,\n",
       " 8.724527240859041e+95,\n",
       " 1.1668869673214396e+95,\n",
       " 1.5178378024572714e+94,\n",
       " 1.9280137554105375e+93,\n",
       " 2.3995167996833488e+92,\n",
       " 2.9339171074646837e+91,\n",
       " 3.5323298698923052e+90,\n",
       " 4.195489322938325e+89,\n",
       " 4.923819217415774e+88,\n",
       " 5.717500157400328e+87,\n",
       " 6.576532385388337e+86,\n",
       " 7.500790327250615e+85,\n",
       " 8.490065778062064e+84,\n",
       " 9.544100731369552e+83,\n",
       " 1.0662615385731402e+83,\n",
       " 1.1845337125674499e+82,\n",
       " 1.3092030674563625e+81,\n",
       " 1.4402522431413966e+80,\n",
       " 1.5776710805340483e+79,\n",
       " 1.721456292308126e+78,\n",
       " 1.8716110673061395e+77,\n",
       " 2.028146282214644e+76,\n",
       " 2.1910836250203675e+75,\n",
       " 2.360458550659643e+74,\n",
       " 2.5363198671919697e+73,\n",
       " 2.718724896280715e+72,\n",
       " 2.9077338439002804e+71,\n",
       " 3.103410127564194e+70,\n",
       " 3.3058302325180545e+69,\n",
       " 3.515097087366279e+68,\n",
       " 3.731342407804541e+67,\n",
       " 3.9547070659956054e+66,\n",
       " 4.185308345643411e+65,\n",
       " 4.423226225632424e+64,\n",
       " 4.668541402110151e+63,\n",
       " 4.921417502716971e+62,\n",
       " 5.182156856414284e+61,\n",
       " 5.4511337712652325e+60,\n",
       " 5.728585114010218e+59,\n",
       " 6.014406385539342e+58,\n",
       " 6.308230351350656e+57,\n",
       " 6.609953840570746e+56,\n",
       " 6.920444462822016e+55,\n",
       " 7.241652366691607e+54,\n",
       " 7.575358323957093e+53,\n",
       " 7.920821109961636e+52,\n",
       " 8.273360112863438e+51,\n",
       " 8.626878024800063e+50,\n",
       " 8.981326667447738e+49,\n",
       " 9.350474702379702e+48,\n",
       " 9.759419091287093e+47,\n",
       " 1.0222751177560387e+47,\n",
       " 1.0710088771040892e+46,\n",
       " 1.113201644965555e+45,\n",
       " 1.1393545824493003e+44,\n",
       " 1.1528647129410634e+43,\n",
       " 1.1831547189770411e+42,\n",
       " 1.2787798578334197e+41,\n",
       " 1.4618667971890291e+40,\n",
       " 1.6546586049047965e+39,\n",
       " 1.6460067814414775e+38,\n",
       " 1.2094814523532503e+37,\n",
       " 4.3182800209242266e+35,\n",
       " 8.763861584147566e+33,\n",
       " 1.5608184014914407e+34,\n",
       " 5.67915046857187e+33,\n",
       " 1.0427502458501492e+33,\n",
       " 9.177949042816777e+31,\n",
       " -6.85629623470322e+30,\n",
       " -3.8225838582433977e+30,\n",
       " -6.0949821612778764e+29,\n",
       " -1.9543005647867544e+28,\n",
       " 1.414970747591971e+28,\n",
       " 3.844314190756393e+27,\n",
       " 4.545987202963425e+26,\n",
       " -1.2953256092766779e+25,\n",
       " -1.7219316799639082e+25,\n",
       " -3.665332150705476e+24,\n",
       " -3.253515217773927e+23,\n",
       " 4.014592604512261e+22,\n",
       " 2.0474017735541116e+22,\n",
       " 3.719721403332283e+21,\n",
       " 2.4003486926800074e+20,\n",
       " -6.579950131501194e+19,\n",
       " -2.495158245556851e+19,\n",
       " -4.113074911698242e+18,\n",
       " -1.9718107537749328e+17,\n",
       " 6.978520162332066e+16,\n",
       " 0.0]"
      ]
     },
     "execution_count": 21,
     "metadata": {},
     "output_type": "execute_result"
    }
   ],
   "source": [
    "p_implicit"
   ]
  },
  {
   "cell_type": "code",
   "execution_count": null,
   "metadata": {
    "papermill": {
     "duration": 0.026974,
     "end_time": "2023-01-13T09:26:25.505227",
     "exception": false,
     "start_time": "2023-01-13T09:26:25.478253",
     "status": "completed"
    },
    "tags": []
   },
   "outputs": [],
   "source": []
  }
 ],
 "metadata": {
  "kernelspec": {
   "display_name": "Python 3",
   "language": "python",
   "name": "python3"
  },
  "language_info": {
   "codemirror_mode": {
    "name": "ipython",
    "version": 3
   },
   "file_extension": ".py",
   "mimetype": "text/x-python",
   "name": "python",
   "nbconvert_exporter": "python",
   "pygments_lexer": "ipython3",
   "version": "3.7.6"
  },
  "papermill": {
   "duration": 790.928003,
   "end_time": "2023-01-13T09:26:25.640805",
   "environment_variables": {},
   "exception": null,
   "input_path": "__notebook__.ipynb",
   "output_path": "__notebook__.ipynb",
   "parameters": {},
   "start_time": "2023-01-13T09:13:14.712802",
   "version": "2.1.0"
  }
 },
 "nbformat": 4,
 "nbformat_minor": 4
}
