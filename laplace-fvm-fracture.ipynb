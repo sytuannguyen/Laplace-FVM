{
 "cells": [
  {
   "cell_type": "code",
   "execution_count": 1,
   "metadata": {
    "execution": {
     "iopub.execute_input": "2023-10-06T07:42:29.867150Z",
     "iopub.status.busy": "2023-10-06T07:42:29.866386Z",
     "iopub.status.idle": "2023-10-06T07:42:30.284642Z",
     "shell.execute_reply": "2023-10-06T07:42:30.285164Z",
     "shell.execute_reply.started": "2023-10-06T07:34:33.107333Z"
    },
    "papermill": {
     "duration": 0.431143,
     "end_time": "2023-10-06T07:42:30.285397",
     "exception": false,
     "start_time": "2023-10-06T07:42:29.854254",
     "status": "completed"
    },
    "tags": []
   },
   "outputs": [],
   "source": [
    "import warnings\n",
    "warnings.filterwarnings(\"ignore\")\n",
    "\n",
    "from scipy.sparse import csc_matrix, linalg\n",
    "\n",
    "from math import factorial, floor\n",
    "import numpy as np\n",
    "\n",
    "import matplotlib.pyplot as plt\n",
    "font = {'size'   : 14}\n",
    "plt.rc('font', **font)"
   ]
  },
  {
   "cell_type": "code",
   "execution_count": 2,
   "metadata": {
    "execution": {
     "iopub.execute_input": "2023-10-06T07:42:30.305670Z",
     "iopub.status.busy": "2023-10-06T07:42:30.304988Z",
     "iopub.status.idle": "2023-10-06T07:42:30.314017Z",
     "shell.execute_reply": "2023-10-06T07:42:30.313224Z",
     "shell.execute_reply.started": "2023-10-06T07:34:33.464104Z"
    },
    "papermill": {
     "duration": 0.019076,
     "end_time": "2023-10-06T07:42:30.314156",
     "exception": false,
     "start_time": "2023-10-06T07:42:30.295080",
     "status": "completed"
    },
    "tags": []
   },
   "outputs": [],
   "source": [
    "def Vfunction(i, N):\n",
    "    sum1 = 0.\n",
    "    kmin = int(floor((i + 1.) / 2.))\n",
    "    kmax = min(i, N)\n",
    "    for k in range(kmin, kmax+1):\n",
    "        sum1 += (1.*(k**N) * factorial(2 * k) / (factorial(N - k) * factorial(k) * factorial(k - 1) * factorial(i - k) * factorial(2 * k - i)))\n",
    "    return ((-1.)**(N + i)) * sum1"
   ]
  },
  {
   "cell_type": "code",
   "execution_count": 3,
   "metadata": {
    "execution": {
     "iopub.execute_input": "2023-10-06T07:42:30.334680Z",
     "iopub.status.busy": "2023-10-06T07:42:30.334031Z",
     "iopub.status.idle": "2023-10-06T07:42:30.336895Z",
     "shell.execute_reply": "2023-10-06T07:42:30.337347Z",
     "shell.execute_reply.started": "2023-10-06T07:34:33.473105Z"
    },
    "papermill": {
     "duration": 0.016218,
     "end_time": "2023-10-06T07:42:30.337531",
     "exception": false,
     "start_time": "2023-10-06T07:42:30.321313",
     "status": "completed"
    },
    "tags": []
   },
   "outputs": [],
   "source": [
    "def solve(matrixR,vectorF):\n",
    "    return linalg.spsolve(csc_matrix(matrixR, dtype=float), csc_matrix(vectorF, dtype=float)) # only for nCells <= 100 x 100\n",
    "\n",
    "    # Iterative solvers###################################\n",
    "    # Minimal residual iterative method (krylov) # can reach to nCells = 400 x 400 or more\n",
    "    '''\n",
    "    A = csc_matrix(matrixR, dtype=float)\n",
    "    A = A + A.T\n",
    "    vectorU, exitCode = scipy.sparse.linalg.minres(A, vectorF,tol=1e-100, maxiter=10000, show=False)\n",
    "    print(np.allclose(A.dot(vectorF), vectorU))\n",
    "    return vectorU'''"
   ]
  },
  {
   "cell_type": "code",
   "execution_count": 4,
   "metadata": {
    "execution": {
     "iopub.execute_input": "2023-10-06T07:42:30.355408Z",
     "iopub.status.busy": "2023-10-06T07:42:30.354761Z",
     "iopub.status.idle": "2023-10-06T07:42:30.396001Z",
     "shell.execute_reply": "2023-10-06T07:42:30.396537Z",
     "shell.execute_reply.started": "2023-10-06T07:34:33.487671Z"
    },
    "papermill": {
     "duration": 0.052037,
     "end_time": "2023-10-06T07:42:30.396708",
     "exception": false,
     "start_time": "2023-10-06T07:42:30.344671",
     "status": "completed"
    },
    "tags": []
   },
   "outputs": [],
   "source": [
    "def rigidity(n, s, x,y, cxx,cyy,cf, phi,e):\n",
    "    nCell = n*n\n",
    "    M = np.zeros((nCell,nCell))\n",
    "    for i in range(1,n-1):\n",
    "        for j in range(1,n-1):\n",
    "            iCell = i*n + j\n",
    "            iW = (i-1)*n + j\n",
    "            iE = (i+1)*n + j\n",
    "            iS = iCell - 1\n",
    "            iN = iCell + 1\n",
    "\n",
    "            l1 = (y[i][j+1]-y[i][j-1])/2.\n",
    "            l2 = (x[i+1][j]-x[i-1][j])/2.\n",
    "\n",
    "            c1xi  = (cxx[i][j] + cxx[i-1][j]) /2. /l2 /(x[i][j] - x[i-1][j])\n",
    "            c2eta =-(cyy[i][j+1] + cyy[i][j]) /2. /l1 /(y[i][j+1] - y[i][j])\n",
    "            c3xi  =-(cxx[i+1][j] + cxx[i][j]) /2. /l2 /(x[i+1][j] - x[i][j])\n",
    "            c4eta = (cyy[i][j] + cyy[i][j-1]) /2. /l1 /(y[i][j] - y[i][j-1])\n",
    "\n",
    "            M[iCell][iCell] = s + c1xi - c2eta - c3xi + c4eta\n",
    "\n",
    "            M[iCell][iW] = -c1xi         \n",
    "            M[iCell][iN] = c2eta\n",
    "            M[iCell][iE] = c3xi\n",
    "            M[iCell][iS] = -c4eta\n",
    "\n",
    "\n",
    "    # Fracture\n",
    "    i = int(n/2.)\n",
    "    for j in range(int(40.*n/101.),int(60.*n/101.)): \n",
    "    # the end range of int(3.*n/4.)-1 caused a day long issue\n",
    "\n",
    "        iCell = i*n + j\n",
    "        for k in range(0,nCell):\n",
    "            M[iCell][k] = 0. \n",
    "\n",
    "\n",
    "        iW = (i-1)*n + j\n",
    "        iE = (i+1)*n + j\n",
    "        iS = iCell - 1\n",
    "        iN = iCell + 1\n",
    "\n",
    "        l1 = (y[i][j+1]-y[i][j-1])/2.\n",
    "        l2 = (x[i+1][j]-x[i-1][j])/2.\n",
    "\n",
    "\n",
    "\n",
    "\n",
    "        cfW  = phi*(cxx[i][j] + cxx[i-1][j]) /2. /(x[i][j] - x[i-1][j])\n",
    "\n",
    "        cfE  = -phi*(cxx[i+1][j] + cxx[i][j]) /2. /(x[i+1][j] - x[i][j])\n",
    "\n",
    "\n",
    "        M[iCell][iCell] = s + 2.*cf/l1**2. + cfW - cfE\n",
    "\n",
    "\n",
    "\n",
    "        M[iCell][iN] = -cf/l1**2.\n",
    "        M[iCell][iS] = -cf/l1**2.\n",
    "        M[iCell][iW] = -cfW         \n",
    "        M[iCell][iE] = cfE\n",
    "\n",
    "\n",
    "\n",
    "    # Fracture tip 1\n",
    "    i = int(n/2.)\n",
    "    j = int(40.*n/101.)\n",
    "\n",
    "\n",
    "    iCell = i*n + j\n",
    "    for k in range(0,nCell):\n",
    "        M[iCell][k] = 0. \n",
    "\n",
    "    iW = (i-1)*n + j\n",
    "    iE = (i+1)*n + j\n",
    "    iS = iCell - 1\n",
    "    iN = iCell + 1\n",
    "\n",
    "    l1 = (y[i][j+1]-y[i][j-1])/2.\n",
    "    l2 = (x[i+1][j]-x[i-1][j])/2.\n",
    "\n",
    "\n",
    "\n",
    "    cfW  = phi*(cxx[i][j] + cxx[i-1][j]) /2. /(x[i][j] - x[i-1][j])\n",
    "\n",
    "    cfE  = -phi*(cxx[i+1][j] + cxx[i][j]) /2. /(x[i+1][j] - x[i][j])\n",
    "\n",
    "\n",
    "    # Removing ctS allow a best fit for high matrix permeability, steady state regime\n",
    "    #coeffff = 0.\n",
    "    #ctS = coeffff*phi*l2/e*(cyy[i][j] + cyy[i][j-1]) /2. /(y[i][j] - y[i][j-1])\n",
    "\n",
    "    M[iCell][iCell] = s + cf/l1**2. + cfW - cfE #+ ctS\n",
    "\n",
    "\n",
    "    M[iCell][iN] = -cf/l1**2.\n",
    "    #M[iCell][iS] = -ctS\n",
    "    M[iCell][iW] = -cfW         \n",
    "    M[iCell][iE] = cfE\n",
    "\n",
    "    # Fracture tip 2\n",
    "    i = int(n/2.)\n",
    "    j = int(60.*n/101.)\n",
    "\n",
    "    iCell = i*n + j\n",
    "    for k in range(0,nCell):\n",
    "        M[iCell][k] = 0. \n",
    "\n",
    "    iW = (i-1)*n + j\n",
    "    iE = (i+1)*n + j\n",
    "    iS = iCell - 1\n",
    "    iN = iCell + 1\n",
    "\n",
    "    l1 = (y[i][j+1]-y[i][j-1])/2.\n",
    "    l2 = (x[i+1][j]-x[i-1][j])/2.\n",
    "\n",
    "\n",
    "\n",
    "\n",
    "\n",
    "    cfW  = phi*(cxx[i][j] + cxx[i-1][j]) /2. /(x[i][j] - x[i-1][j])\n",
    "\n",
    "    cfE  = -phi*(cxx[i+1][j] + cxx[i][j]) /2. /(x[i+1][j] - x[i][j])\n",
    "\n",
    "    # Removing ctN allow a best fit for high matrix permeability, steady state regime\n",
    "\n",
    "    #ctN  = coeffff* (  -phi*l2/e*(cyy[i][j+1] + cyy[i][j]) /2. /(y[i][j+1] - y[i][j])  )\n",
    "\n",
    "    M[iCell][iCell] = s + cf/l1**2. + cfW - cfE #- ctN\n",
    "\n",
    "\n",
    "\n",
    "    #M[iCell][iN] = ctN\n",
    "    M[iCell][iS] = -cf/l1**2.\n",
    "    M[iCell][iW] = -cfW         \n",
    "    M[iCell][iE] = cfE\n",
    "\n",
    "    # Pressure boundary condition on top and bottom sides  \n",
    "\n",
    "    for i in range(0,n):\n",
    "        for j in range(0,nCell):\n",
    "            #M[i][j] = 0\n",
    "            M[(i+1)*n-1][j] = 0. \n",
    "            #M[nCell-1-i][j] = 0\n",
    "            M[i*n][j] = 0.\n",
    "\n",
    "        #M[i][i] = 1\n",
    "        M[(i+1)*n-1][(i+1)*n-1] = 1. \n",
    "        #M[nCell-1-i][nCell-1-i] = 1\n",
    "        M[i*n][i*n] = 1. \n",
    "\n",
    "    # Flow rate boundary condition on left and right sides    \n",
    "    for i in range(1,n-1): # 1 to n-1 to avoid the boundaries where pressure is imposed, this allows avoiding an issue related to 2x pressure at the first cell\n",
    "        for j in range(0,nCell):\n",
    "            M[i][j] = 0.\n",
    "            #M[(i+1)*n-1][j] = 0 \n",
    "            M[nCell-1-i][j] = 0.\n",
    "            #M[i*n][j] = 0\n",
    "\n",
    "        M[i][i] = 1.\n",
    "        M[i][i+n] = -1.\n",
    "\n",
    "        #M[(i+1)*n-1][(i+1)*n-1] = 1 \n",
    "        #M[(i+1)*n-1][(i+1)*n-2] = -1\n",
    "\n",
    "        M[nCell-1-i][nCell-1-i] = 1.\n",
    "        M[nCell-1-i][nCell-1-i-n] = -1.\n",
    "\n",
    "        #M[i*n][i*n] = 1 \n",
    "        #M[i*n][i*n+1] = -1  \n",
    "\n",
    "    return M"
   ]
  },
  {
   "cell_type": "code",
   "execution_count": 5,
   "metadata": {
    "_cell_guid": "b1076dfc-b9ad-4769-8c92-a6c4dae69d19",
    "_uuid": "8f2839f25d086af736a60e9eeb907d3b93b6e0e5",
    "execution": {
     "iopub.execute_input": "2023-10-06T07:42:30.415289Z",
     "iopub.status.busy": "2023-10-06T07:42:30.414588Z",
     "iopub.status.idle": "2023-10-06T07:42:43.118807Z",
     "shell.execute_reply": "2023-10-06T07:42:43.118132Z",
     "shell.execute_reply.started": "2023-10-06T07:34:33.533416Z"
    },
    "papermill": {
     "duration": 12.7153,
     "end_time": "2023-10-06T07:42:43.118970",
     "exception": false,
     "start_time": "2023-10-06T07:42:30.403670",
     "status": "completed"
    },
    "tags": []
   },
   "outputs": [],
   "source": [
    "p0 = 0.\n",
    "pTop = 5\n",
    "pBot = -5\n",
    "L = 10.\n",
    "e = 1e-5\n",
    "\n",
    "\n",
    "n = 101 # Highly mesh sensible for large time transient regime, this may be avoided by removing time dependent term in the fracture\n",
    "#x, y = np.mgrid[0:L:n*1j, 0:L:n*1j]\n",
    "x, y = np.mgrid[-L/2.:L/2.:n*1j, -L/2.:L/2.:n*1j]\n",
    "\n",
    "t = 1e6\n",
    "\n",
    "muf = 1e-3\n",
    "\n",
    "c_fluid = 5e-10\n",
    "kappa = 1e-18/muf\n",
    "phi = 0.1\n",
    "\n",
    "# Biot's modulus\n",
    "M = 1./(phi*c_fluid)\n",
    "\n",
    "# Diffusion coefficient\n",
    "c = kappa * M\n",
    "\n",
    "\n",
    "\n",
    "cf = e**3./12./muf/c_fluid  \n",
    "\n",
    "cxx = np.r_[c*np.ones((int(n/2.),n)), c*np.ones((n-int(n/2.),n)) ]\n",
    "cyy = cxx\n",
    "\n",
    "# Force\n",
    "nCell = n*n\n",
    "#f = np.zeros((nCell,1))\n",
    "f = np.zeros(nCell)\n",
    "\n",
    "# Pressure boundaries condition \n",
    "    \n",
    "for i in range(0,n):\n",
    "\n",
    "    #f[i] = 0\n",
    "    f[(i+1)*n-1] = pTop\n",
    "    #f[nCell-1-i] = 0\n",
    "    f[i*n] = pBot\n",
    "  \n",
    "f = f.reshape(len(f),1)\n",
    "\n",
    "# Solving the linear equation system by the fast Laplace-Stehfest method\n",
    "N = 2\n",
    "sum_p = np.zeros(nCell)\n",
    "\n",
    "for j in range(1,2*N+1):\n",
    "\ts = j * np.log(2.) / t\n",
    "\n",
    "\tM = rigidity(n,s,x,y,cxx,cyy,cf,phi,e)\n",
    "\t\n",
    "\tp = solve(M,f/s)\n",
    "\n",
    "\tsum_p += Vfunction(j,N) * p\n",
    "\n",
    "p = sum_p * np.log(2.) / t\n",
    "\n",
    "p+=p0\n",
    "\n",
    "p = p.reshape(n,n)"
   ]
  },
  {
   "cell_type": "code",
   "execution_count": 6,
   "metadata": {
    "execution": {
     "iopub.execute_input": "2023-10-06T07:42:43.140513Z",
     "iopub.status.busy": "2023-10-06T07:42:43.139765Z",
     "iopub.status.idle": "2023-10-06T07:42:43.510505Z",
     "shell.execute_reply": "2023-10-06T07:42:43.511005Z",
     "shell.execute_reply.started": "2023-10-06T07:42:02.095565Z"
    },
    "papermill": {
     "duration": 0.385139,
     "end_time": "2023-10-06T07:42:43.511174",
     "exception": false,
     "start_time": "2023-10-06T07:42:43.126035",
     "status": "completed"
    },
    "tags": []
   },
   "outputs": [
    {
     "data": {
      "image/png": "[encoded data removed]",
      "text/plain": [
       "<Figure size 432x288 with 2 Axes>"
      ]
     },
     "metadata": {
      "needs_background": "light"
     },
     "output_type": "display_data"
    }
   ],
   "source": [
    "plt.pcolor(x, y, p, cmap='jet')\n",
    "colorbar = plt.colorbar()\n",
    "colorbar.set_label('Pore pressure (unitless)')\n",
    "plt.xlabel('x (m)')\n",
    "plt.ylabel('y (m)')\n",
    "plt.plot([0,0],[-2,2],'k')\n",
    "plt.text(0.5, 0, 'Crack', ha='left', va='center', fontsize=16)\n",
    "plt.show()"
   ]
  },
  {
   "cell_type": "code",
   "execution_count": 7,
   "metadata": {
    "execution": {
     "iopub.execute_input": "2023-10-06T07:42:43.534132Z",
     "iopub.status.busy": "2023-10-06T07:42:43.533442Z",
     "iopub.status.idle": "2023-10-06T07:42:43.536467Z",
     "shell.execute_reply": "2023-10-06T07:42:43.536922Z",
     "shell.execute_reply.started": "2023-10-06T07:34:46.472643Z"
    },
    "papermill": {
     "duration": 0.017775,
     "end_time": "2023-10-06T07:42:43.537098",
     "exception": false,
     "start_time": "2023-10-06T07:42:43.519323",
     "status": "completed"
    },
    "tags": []
   },
   "outputs": [],
   "source": [
    "def analytic(A, L, r, theta):\n",
    "    return A*np.sqrt(L)*np.sqrt((r**2-L**2)*(1.0+np.cos(theta)))\n",
    "    #return np.sqrt((r**2-L**2))\n",
    "    "
   ]
  },
  {
   "cell_type": "code",
   "execution_count": 8,
   "metadata": {
    "execution": {
     "iopub.execute_input": "2023-10-06T07:42:43.572256Z",
     "iopub.status.busy": "2023-10-06T07:42:43.569323Z",
     "iopub.status.idle": "2023-10-06T07:42:43.738844Z",
     "shell.execute_reply": "2023-10-06T07:42:43.738314Z",
     "shell.execute_reply.started": "2023-10-06T07:40:05.309850Z"
    },
    "papermill": {
     "duration": 0.194098,
     "end_time": "2023-10-06T07:42:43.739048",
     "exception": false,
     "start_time": "2023-10-06T07:42:43.544950",
     "status": "completed"
    },
    "tags": []
   },
   "outputs": [
    {
     "data": {
      "image/png": "[encoded data removed]",
      "text/plain": [
       "<Figure size 504x360 with 1 Axes>"
      ]
     },
     "metadata": {
      "needs_background": "light"
     },
     "output_type": "display_data"
    }
   ],
   "source": [
    "p_TFVM = []\n",
    "y_TFVM = []\n",
    "\n",
    "for i in range(0, n):\n",
    "\t\n",
    "\tp_TFVM.append(p[int(n/2)][i])\n",
    "\n",
    "\ty_TFVM.append(y[int(n/2)][i])\n",
    "\n",
    "\n",
    "'''\n",
    "y = []\n",
    "p = []\n",
    "for line in open('pressure.curve', 'r'):\n",
    "\tif not (line.strip().startswith(\"#\") or line.strip()==''):\n",
    "\t\tvalues = [float(s) for s in line.split()]\n",
    "\t\ty.append(values[0]-5.)\n",
    "\t\tp.append(values[1])\n",
    "'''\n",
    "\n",
    "fig = plt.figure(figsize=[7.,5])\n",
    "\n",
    "plt.subplot(111)\n",
    "#plt.plot(y,p,'ko',label='GEOSX')\n",
    "plt.plot(y_TFVM,p_TFVM,'ko',label='This model')\n",
    "\n",
    "r = np.linspace(1,5,500)\n",
    "plt.plot(r,analytic(1, 1, r, np.pi/2.0),'r',linewidth=3,label='Analytic')\n",
    "\n",
    "plt.xlabel('Vertical distance from the crack center, y (m)')\n",
    "#plt.xlim(-3.,3.)\n",
    "plt.ylabel('Pore pressure (unitless)')\n",
    "plt.xlim(0,3)\n",
    "plt.ylim(0,3)\n",
    "plt.legend()\n",
    "plt.show()"
   ]
  },
  {
   "cell_type": "code",
   "execution_count": null,
   "metadata": {
    "papermill": {
     "duration": 0.008526,
     "end_time": "2023-10-06T07:42:43.757460",
     "exception": false,
     "start_time": "2023-10-06T07:42:43.748934",
     "status": "completed"
    },
    "tags": []
   },
   "outputs": [],
   "source": []
  }
 ],
 "metadata": {
  "kernelspec": {
   "display_name": "Python 3",
   "language": "python",
   "name": "python3"
  },
  "language_info": {
   "codemirror_mode": {
    "name": "ipython",
    "version": 3
   },
   "file_extension": ".py",
   "mimetype": "text/x-python",
   "name": "python",
   "nbconvert_exporter": "python",
   "pygments_lexer": "ipython3",
   "version": "3.7.6"
  },
  "papermill": {
   "duration": 18.681246,
   "end_time": "2023-10-06T07:42:43.877079",
   "environment_variables": {},
   "exception": null,
   "input_path": "__notebook__.ipynb",
   "output_path": "__notebook__.ipynb",
   "parameters": {},
   "start_time": "2023-10-06T07:42:25.195833",
   "version": "2.1.0"
  }
 },
 "nbformat": 4,
 "nbformat_minor": 4
}
