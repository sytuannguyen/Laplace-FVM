{
 "cells": [
  {
   "cell_type": "code",
   "execution_count": 1,
   "metadata": {
    "execution": {
     "iopub.execute_input": "2023-04-20T04:03:24.748382Z",
     "iopub.status.busy": "2023-04-20T04:03:24.747467Z",
     "iopub.status.idle": "2023-04-20T04:03:25.158517Z",
     "shell.execute_reply": "2023-04-20T04:03:25.157738Z",
     "shell.execute_reply.started": "2023-04-20T04:03:07.085301Z"
    },
    "papermill": {
     "duration": 0.43088,
     "end_time": "2023-04-20T04:03:25.158703",
     "exception": false,
     "start_time": "2023-04-20T04:03:24.727823",
     "status": "completed"
    },
    "tags": []
   },
   "outputs": [],
   "source": [
    "import warnings\n",
    "warnings.filterwarnings(\"ignore\")\n",
    "\n",
    "import scipy\n",
    "from scipy.sparse import csc_matrix, linalg\n",
    "\n",
    "from math import factorial, floor\n",
    "import numpy as np\n",
    "\n",
    "import matplotlib.pyplot as plt\n",
    "font = {'size'   : 14}\n",
    "plt.rc('font', **font)"
   ]
  },
  {
   "cell_type": "code",
   "execution_count": 2,
   "metadata": {
    "execution": {
     "iopub.execute_input": "2023-04-20T04:03:25.192011Z",
     "iopub.status.busy": "2023-04-20T04:03:25.190923Z",
     "iopub.status.idle": "2023-04-20T04:03:25.194217Z",
     "shell.execute_reply": "2023-04-20T04:03:25.193670Z",
     "shell.execute_reply.started": "2023-04-20T04:03:07.108130Z"
    },
    "papermill": {
     "duration": 0.023589,
     "end_time": "2023-04-20T04:03:25.194350",
     "exception": false,
     "start_time": "2023-04-20T04:03:25.170761",
     "status": "completed"
    },
    "tags": []
   },
   "outputs": [],
   "source": [
    "def Vfunction(i, N):\n",
    "    sum1 = 0.\n",
    "    kmin = int(floor((i + 1.) / 2.))\n",
    "    kmax = min(i, N)\n",
    "    for k in range(kmin, kmax+1):\n",
    "        sum1 += (1.*(k**N) * factorial(2 * k) / (factorial(N - k) * factorial(k) * factorial(k - 1) * factorial(i - k) * factorial(2 * k - i)))\n",
    "    return ((-1.)**(N + i)) * sum1"
   ]
  },
  {
   "cell_type": "code",
   "execution_count": 3,
   "metadata": {
    "execution": {
     "iopub.execute_input": "2023-04-20T04:03:25.225272Z",
     "iopub.status.busy": "2023-04-20T04:03:25.224174Z",
     "iopub.status.idle": "2023-04-20T04:03:25.227084Z",
     "shell.execute_reply": "2023-04-20T04:03:25.227533Z",
     "shell.execute_reply.started": "2023-04-20T04:03:07.127163Z"
    },
    "papermill": {
     "duration": 0.02118,
     "end_time": "2023-04-20T04:03:25.227712",
     "exception": false,
     "start_time": "2023-04-20T04:03:25.206532",
     "status": "completed"
    },
    "tags": []
   },
   "outputs": [],
   "source": [
    "def solve(matrixR,vectorF):\n",
    "    return linalg.spsolve(csc_matrix(matrixR, dtype=float), csc_matrix(vectorF, dtype=float)) # only for nCells <= 100 x 100\n",
    "\n",
    "    # Iterative solvers###################################\n",
    "    # Minimal residual iterative method (krylov) # can reach to nCells = 400 x 400 or more\n",
    "    \n",
    "    '''A = csc_matrix(matrixR, dtype=float)\n",
    "    A = A + A.T\n",
    "    vectorU, exitCode = scipy.sparse.linalg.minres(A, vectorF,tol=1e-100, maxiter=20000, show=False)\n",
    "    print(np.allclose(A.dot(vectorF), vectorU))\n",
    "    return vectorU'''"
   ]
  },
  {
   "cell_type": "code",
   "execution_count": 4,
   "metadata": {
    "execution": {
     "iopub.execute_input": "2023-04-20T04:03:25.255345Z",
     "iopub.status.busy": "2023-04-20T04:03:25.254229Z",
     "iopub.status.idle": "2023-04-20T04:03:25.296773Z",
     "shell.execute_reply": "2023-04-20T04:03:25.297262Z",
     "shell.execute_reply.started": "2023-04-20T04:03:07.152662Z"
    },
    "papermill": {
     "duration": 0.058224,
     "end_time": "2023-04-20T04:03:25.297433",
     "exception": false,
     "start_time": "2023-04-20T04:03:25.239209",
     "status": "completed"
    },
    "tags": []
   },
   "outputs": [],
   "source": [
    "def rigidity(nx, ny, s, x,y, cxx,cyy,cf, phi):\n",
    "    nCell = nx*ny\n",
    "    M = np.zeros((nCell,nCell))\n",
    "    \n",
    "    for i in range(1,nx-1):\n",
    "        for j in range(1,ny-1):\n",
    "            iCell = i*ny + j\n",
    "            iW = (i-1)*ny + j\n",
    "            iE = (i+1)*ny + j\n",
    "            iS = iCell - 1\n",
    "            iN = iCell + 1\n",
    "\n",
    "            l1 = (y[i][j+1]-y[i][j-1])/2.\n",
    "            l2 = (x[i+1][j]-x[i-1][j])/2.\n",
    "\n",
    "            c1xi  = (cxx[i][j] + cxx[i-1][j]) /2. /l2 /(x[i][j] - x[i-1][j])\n",
    "            c2eta =-(cyy[i][j+1] + cyy[i][j]) /2. /l1 /(y[i][j+1] - y[i][j])\n",
    "            c3xi  =-(cxx[i+1][j] + cxx[i][j]) /2. /l2 /(x[i+1][j] - x[i][j])\n",
    "            c4eta = (cyy[i][j] + cyy[i][j-1]) /2. /l1 /(y[i][j] - y[i][j-1])\n",
    "\n",
    "            M[iCell][iCell] = s + c1xi - c2eta - c3xi + c4eta\n",
    "\n",
    "            M[iCell][iW] = -c1xi         \n",
    "            M[iCell][iN] = c2eta\n",
    "            M[iCell][iE] = c3xi\n",
    "            M[iCell][iS] = -c4eta\n",
    "\n",
    "    \n",
    "    # Pressure boundary condition on top and bottom sides  \n",
    "    for i in range(0,nx):\n",
    "        for j in range(0,nCell):\n",
    "            M[(i+1)*ny-1][j] = 0. \n",
    "            M[i*ny][j] = 0.\n",
    "\n",
    "        M[(i+1)*ny-1][(i+1)*ny-1] = 1. \n",
    "        M[i*ny][i*ny] = 1. \n",
    "\n",
    "    # Flow rate boundary condition on left and right sides    \n",
    "    for i in range(0,nx):\n",
    "        for j in range(0,nCell):\n",
    "            M[i][j] = 0.\n",
    "            M[nCell-1-i][j] = 0.\n",
    "            \n",
    "        M[i][i] = 1.\n",
    "        M[i][i+ny] = -1.\n",
    "\n",
    "        M[nCell-1-i][nCell-1-i] = 1.\n",
    "        M[nCell-1-i][nCell-1-i-ny] = -1.\n",
    "    return M\n",
    "\n",
    "def addFracture(M, fracture):\n",
    "    # Fracture\n",
    "    for idx in range(1,len(fracture)-1):\n",
    "        # Location of a cell along the fracture\n",
    "        i,j = fracture[idx]\n",
    "        iCell = i*ny + j\n",
    "        \n",
    "        # Initialize the line of the rigidity matrix at iCell\n",
    "        for k in range(0,nCell):\n",
    "            M[iCell][k] = 0. \n",
    "            \n",
    "        iW = (i-1)*ny + j\n",
    "        iE = (i+1)*ny + j\n",
    "        iS = iCell - 1\n",
    "        iN = iCell + 1\n",
    "\n",
    "        l1 = (y[i][j+1]-y[i][j-1])/2.\n",
    "        l2 = (x[i+1][j]-x[i-1][j])/2.\n",
    "        \n",
    "        cfW  = phi*(cxx[i][j] + cxx[i-1][j]) /2. /(x[i][j] - x[i-1][j])\n",
    "\n",
    "        cfE  = -phi*(cxx[i+1][j] + cxx[i][j]) /2. /(x[i+1][j] - x[i][j])\n",
    "\n",
    "        M[iCell][iCell] = s + 2.*cf/l1**2. + cfW - cfE\n",
    "\n",
    "        M[iCell][iN] = -cf/l1**2.\n",
    "        M[iCell][iS] = -cf/l1**2.\n",
    "        M[iCell][iW] = -cfW         \n",
    "        M[iCell][iE] = cfE\n",
    "\n",
    "    # Fracture tip on the bottom side\n",
    "    # The cell corresponding to the fracture tip\n",
    "    i,j = fracture[0]\n",
    "    iCell = i*ny + j\n",
    "    \n",
    "    # Initialize the line of the rigidity matrix at iCell\n",
    "    for k in range(0,nCell):\n",
    "        M[iCell][k] = 0. \n",
    "\n",
    "    iW = (i-1)*ny + j\n",
    "    iE = (i+1)*ny + j\n",
    "    iS = iCell - 1\n",
    "    iN = iCell + 1\n",
    "\n",
    "    l1 = (y[i][j+1]-y[i][j-1])/2.\n",
    "    l2 = (x[i+1][j]-x[i-1][j])/2.\n",
    "\n",
    "    cfW  = phi*(cxx[i][j] + cxx[i-1][j]) /2. /(x[i][j] - x[i-1][j])\n",
    "    cfE  = -phi*(cxx[i+1][j] + cxx[i][j]) /2. /(x[i+1][j] - x[i][j])\n",
    "\n",
    "    M[iCell][iCell] = s + cf/l1**2. + cfW - cfE\n",
    "    M[iCell][iN] = -cf/l1**2.\n",
    "    M[iCell][iW] = -cfW         \n",
    "    M[iCell][iE] = cfE\n",
    "\n",
    "    # Fracture tip on the top side\n",
    "    # The cell corresponding to the fracture tip\n",
    "    i,j = fracture[-1]\n",
    "    iCell = i*ny + j\n",
    "    \n",
    "    # Initialize the line of the rigidity matrix at iCell\n",
    "    for k in range(0,nCell):\n",
    "        M[iCell][k] = 0. \n",
    "\n",
    "    iW = (i-1)*ny + j\n",
    "    iE = (i+1)*ny + j\n",
    "    iS = iCell - 1\n",
    "    iN = iCell + 1\n",
    "\n",
    "    l1 = (y[i][j+1]-y[i][j-1])/2.\n",
    "    l2 = (x[i+1][j]-x[i-1][j])/2.\n",
    "\n",
    "    cfW  = phi*(cxx[i][j] + cxx[i-1][j]) /2. /(x[i][j] - x[i-1][j])\n",
    "    cfE  = -phi*(cxx[i+1][j] + cxx[i][j]) /2. /(x[i+1][j] - x[i][j])\n",
    "\n",
    "    M[iCell][iCell] = s + cf/l1**2. + cfW - cfE\n",
    "    M[iCell][iS] = -cf/l1**2.\n",
    "    M[iCell][iW] = -cfW         \n",
    "    M[iCell][iE] = cfE\n",
    "    \n",
    "    return M"
   ]
  },
  {
   "cell_type": "code",
   "execution_count": 5,
   "metadata": {
    "execution": {
     "iopub.execute_input": "2023-04-20T04:03:25.326453Z",
     "iopub.status.busy": "2023-04-20T04:03:25.325417Z",
     "iopub.status.idle": "2023-04-20T04:03:25.349725Z",
     "shell.execute_reply": "2023-04-20T04:03:25.350263Z",
     "shell.execute_reply.started": "2023-04-20T04:03:07.196507Z"
    },
    "papermill": {
     "duration": 0.041281,
     "end_time": "2023-04-20T04:03:25.350419",
     "exception": false,
     "start_time": "2023-04-20T04:03:25.309138",
     "status": "completed"
    },
    "tags": []
   },
   "outputs": [],
   "source": [
    "def generate_fracture(x,y,nx,ny, tip1, tip2, withoutExtension = True, verbose=0):\n",
    "    inclined_fracture = []\n",
    "    for i in range(nx-1):\n",
    "        for j in range(ny-1):\n",
    "            dx = x[i+1,j] - x[i,j]\n",
    "            dy = y[i,j+1] - y[i,j]\n",
    "            xCell = x[i,j]\n",
    "            yCell = y[i,j]\n",
    "\n",
    "            cell_in_fracture = line_passes_through_cell(tip1, tip2, xCell, yCell, dx, dy, withoutExtension, verbose)\n",
    "            if cell_in_fracture:\n",
    "                inclined_fracture.append([i,j])  \n",
    "    return inclined_fracture\n",
    "\n",
    "def line_passes_through_cell(point1, point2, xCell, yCell, dx, dy, withoutExtension, verbose):\n",
    "    # Tolerance\n",
    "    tol_x = 0.1*dx\n",
    "    tol_y = 0.1*dy\n",
    "    \n",
    "    # First, check if either point is inside the cell\n",
    "    if (xCell - dx/2 < point1[0] < xCell + dx/2 and\n",
    "        yCell - dy/2 < point1[1] < yCell + dy/2) or \\\n",
    "       (xCell - dx/2 < point2[0] < xCell + dx/2 and\n",
    "        yCell - dy/2 < point2[1] < yCell + dy/2):\n",
    "        if verbose == 1:\n",
    "            print(f'Fracture tip is inside the cell {xCell, yCell}')\n",
    "        return True\n",
    "\n",
    "    # If neither point is inside the cell, check if the line intersects the cell\n",
    "    x1, y1 = point1\n",
    "    x2, y2 = point2\n",
    "\n",
    "    # Check if line is vertical\n",
    "    if x1 == x2:\n",
    "        if x1 >= xCell - dx/2 + tol_x and x1 <= xCell + dx/2 - tol_x:\n",
    "            if withoutExtension: # If extention of the fracture line is not allowed, it is needed to verify if the cell center is between the tips\n",
    "                if min(y1,y2) + tol_y <= yCell <= max(y1,y2) - tol_y:\n",
    "                    if verbose == 1:\n",
    "                        print(f'Vertical fracture passes through the cell {xCell, yCell}')\n",
    "                    return True\n",
    "                else:\n",
    "                    if verbose == 1:\n",
    "                        print(f'Vertical fracture does not pass through the cell {xCell, yCell}, its extension passes through the cell')\n",
    "                    return False\n",
    "            else: # If extention of the fracture line is allowed, it is not needed to verify if the cell center is between the tips\n",
    "                return True\n",
    "        else:\n",
    "            if verbose == 1:\n",
    "                print(f'Vertical fracture does not pass through the cell {xCell, yCell}')\n",
    "            return False\n",
    "    \n",
    "    # Check if line is horizontal\n",
    "    if y1 == y2:\n",
    "        if y1 >= yCell - dy/2 + tol_y and y1 <= yCell + dy/2 - tol_y:\n",
    "            if withoutExtension: # If extention of the fracture line is not allowed, it is needed to verify if the cell center is between the tips\n",
    "                if min(x1,x2) + tol_x <= xCell <= max(x1,x2) - tol_x:\n",
    "                    if verbose == 1:\n",
    "                        print(f'Horizontal fracture passes through the cell {xCell, yCell}')\n",
    "                    return True\n",
    "                else:\n",
    "                    if verbose == 1:\n",
    "                        print(f'Horizontal fracture does not pass through the cell {xCell, yCell}, its extension passes through the cell')\n",
    "                    return False\n",
    "            else: # If extention of the fracture line is allowed, it is not needed to verify if the cell center is between the tips\n",
    "                return True\n",
    "        else:\n",
    "            if verbose == 1:\n",
    "                print(f'Horizontal fracture does not pass through the cell {xCell, yCell}')\n",
    "            return False\n",
    "\n",
    "    # Calculate slope and y-intercept of line\n",
    "    m = (y2 - y1) / (x2 - x1)\n",
    "    b = y1 - m*x1\n",
    "\n",
    "    # Calculate x-coordinates of intersection points with upper and lower cell boundaries\n",
    "    x_lower = (yCell - dy/2 - b) / m\n",
    "    x_upper = (yCell + dy/2 - b) / m\n",
    "\n",
    "    # Check if intersection points bound a point in the cell\n",
    "    if min(x_lower, x_upper) < xCell - dx/2 + tol_x < max(x_lower, x_upper) or \\\n",
    "       min(x_lower, x_upper) < xCell + dx/2 - tol_x < max(x_lower, x_upper):\n",
    "        if min(x1,x2) + tol_x <= xCell <= max(x1,x2) - tol_x:\n",
    "            if withoutExtension: # If extention of the fracture line is not allowed, it is needed to verify if the cell center is between the tips\n",
    "                if verbose == 1:\n",
    "                    print(f'Inclined fracture pass through the cell {xCell, yCell}')\n",
    "                    print(f'x_lower={x_lower}, x_upper={x_upper}')\n",
    "                return True\n",
    "            else: # If extention of the fracture line is allowed, it is not needed to verify if the cell center is between the tips\n",
    "                return True\n",
    "        else:\n",
    "            if verbose == 1:\n",
    "                print(f'Inclined fracture point toward the cell {xCell, yCell} but does not pass through it')\n",
    "                print(f'x_lower={x_lower}, x_upper={x_upper}')\n",
    "            return False\n",
    "    else:\n",
    "        if verbose == 1:\n",
    "            print(f'Inclined fracture does not pass through the cell {xCell, yCell}')\n",
    "            print(f'x_lower={x_lower}, x_upper={x_upper}')\n",
    "        return False\n"
   ]
  },
  {
   "cell_type": "code",
   "execution_count": 6,
   "metadata": {
    "execution": {
     "iopub.execute_input": "2023-04-20T04:03:25.378128Z",
     "iopub.status.busy": "2023-04-20T04:03:25.377061Z",
     "iopub.status.idle": "2023-04-20T04:03:25.383086Z",
     "shell.execute_reply": "2023-04-20T04:03:25.383560Z",
     "shell.execute_reply.started": "2023-04-20T04:03:07.226414Z"
    },
    "papermill": {
     "duration": 0.021773,
     "end_time": "2023-04-20T04:03:25.383745",
     "exception": false,
     "start_time": "2023-04-20T04:03:25.361972",
     "status": "completed"
    },
    "tags": []
   },
   "outputs": [],
   "source": [
    "# Geometry\n",
    "Lx = 10.\n",
    "Ly = 10.\n",
    "nx = 101 #issue while defining nx<ny\n",
    "ny = 101\n",
    "x, y = np.mgrid[-Lx/2.:Lx/2.:nx*1j, -Ly/2.:Ly/2.:ny*1j]"
   ]
  },
  {
   "cell_type": "code",
   "execution_count": 7,
   "metadata": {
    "_cell_guid": "b1076dfc-b9ad-4769-8c92-a6c4dae69d19",
    "_uuid": "8f2839f25d086af736a60e9eeb907d3b93b6e0e5",
    "execution": {
     "iopub.execute_input": "2023-04-20T04:03:25.411172Z",
     "iopub.status.busy": "2023-04-20T04:03:25.410131Z",
     "iopub.status.idle": "2023-04-20T04:03:37.634773Z",
     "shell.execute_reply": "2023-04-20T04:03:37.634025Z"
    },
    "papermill": {
     "duration": 12.23973,
     "end_time": "2023-04-20T04:03:37.634926",
     "exception": false,
     "start_time": "2023-04-20T04:03:25.395196",
     "status": "completed"
    },
    "tags": []
   },
   "outputs": [],
   "source": [
    "# Apply unit pressure gradient\n",
    "pTop = Ly/2\n",
    "pBot = -Ly/2\n",
    "\n",
    "t = 1e7    # Time, must be large enough to fit with steady-state results\n",
    "\n",
    "muf = 1e-3 # Fluid dynamic viscosity\n",
    "c_fluid = 5e-10 # Fluid compressibility\n",
    "permeability = 1e-18 # Intrinsic permeability\n",
    "kappa = permeability/muf \n",
    "phi = 0.1 # Porosity\n",
    "\n",
    "# Biot's modulus\n",
    "M = 1./(phi*c_fluid) # Simple approximation for pure fluid flow problem without mechanical deformation\n",
    "\n",
    "# Diffusion coefficient\n",
    "c = kappa * M\n",
    "\n",
    "#e = 1e-5\n",
    "#cf = e**3./12./muf/c_fluid  \n",
    "ell = 1.0 # Fracture half length\n",
    "\n",
    "lambda_ratio = 0.5\n",
    "cf = lambda_ratio * 2.0*np.pi * permeability * ell/muf/c_fluid  \n",
    "\n",
    "# Diffusion matrix\n",
    "cxx = np.r_[ c*np.ones( ( int(nx/2.), ny ) ), c*np.ones( ( nx-int(nx/2.), ny ) ) ]\n",
    "cyy = cxx\n",
    "\n",
    "# Initialize the right-side vector\n",
    "nCell = nx * ny\n",
    "f = np.zeros(nCell)\n",
    "\n",
    "# Update the right-side vector with pressure boundaries condition \n",
    "for i in range(0,nx):\n",
    "    f[(i+1)*ny-1] = pTop\n",
    "    f[i*ny] = pBot\n",
    "  \n",
    "f = f.reshape(len(f),1)\n",
    "\n",
    "# Define a fracture\n",
    "tip1 = [0,-1]\n",
    "tip2 = [0,1]\n",
    "fracture = generate_fracture(x,y,nx,ny, tip1, tip2)\n",
    "            \n",
    "# Solving the linear equation system by the Laplace-FVM method\n",
    "N = 2\n",
    "sum_p = np.zeros(nCell)\n",
    "\n",
    "for j in range(1, 2*N+1):\n",
    "    s = j * np.log(2.) / t\n",
    "    M = rigidity(nx, ny, s,x,y,cxx,cyy,cf,phi)\n",
    "    M = addFracture(M, fracture)\n",
    "    \n",
    "    p = solve(M,f/s)\n",
    "    sum_p += Vfunction(j,N) * p\n",
    "\n",
    "p = sum_p * np.log(2.) / t\n",
    "p = p.reshape(nx,ny)"
   ]
  },
  {
   "cell_type": "code",
   "execution_count": 8,
   "metadata": {
    "execution": {
     "iopub.execute_input": "2023-04-20T04:03:37.665806Z",
     "iopub.status.busy": "2023-04-20T04:03:37.665076Z",
     "iopub.status.idle": "2023-04-20T04:03:38.047190Z",
     "shell.execute_reply": "2023-04-20T04:03:38.047713Z"
    },
    "papermill": {
     "duration": 0.398233,
     "end_time": "2023-04-20T04:03:38.047884",
     "exception": false,
     "start_time": "2023-04-20T04:03:37.649651",
     "status": "completed"
    },
    "tags": []
   },
   "outputs": [
    {
     "data": {
      "image/png": "[encoded data removed]",
      "text/plain": [
       "<Figure size 360x360 with 2 Axes>"
      ]
     },
     "metadata": {
      "needs_background": "light"
     },
     "output_type": "display_data"
    }
   ],
   "source": [
    "plt.figure(figsize=(Lx/2,Ly/2))\n",
    "plt.pcolor(x, y, p, cmap='jet', vmin=-5, vmax=5)\n",
    "#plt.xlim(-1,2)\n",
    "#plt.ylim(-1,1)\n",
    "plt.colorbar()\n",
    "plt.show()"
   ]
  },
  {
   "cell_type": "code",
   "execution_count": 9,
   "metadata": {
    "execution": {
     "iopub.execute_input": "2023-04-20T04:03:38.078029Z",
     "iopub.status.busy": "2023-04-20T04:03:38.077290Z",
     "iopub.status.idle": "2023-04-20T04:03:38.083070Z",
     "shell.execute_reply": "2023-04-20T04:03:38.083559Z"
    },
    "papermill": {
     "duration": 0.022705,
     "end_time": "2023-04-20T04:03:38.083750",
     "exception": false,
     "start_time": "2023-04-20T04:03:38.061045",
     "status": "completed"
    },
    "tags": []
   },
   "outputs": [],
   "source": [
    "# For void crack, lambda_ratio=infty\n",
    "def analytic2D(ell,x,y):\n",
    "    return np.sign(y)*np.sqrt( np.sqrt( (ell**2 + x**2 - y**2)**2 + 4*(x**2)*(y**2) ) - (ell**2 + x**2 - y**2) )  / np.sqrt(2)\n",
    "\n",
    "#plt.pcolor(x, y, analytic2D(ell,x,y), cmap='jet', vmin=-5, vmax=5)\n",
    "#plt.colorbar()\n",
    "#plt.show()"
   ]
  },
  {
   "cell_type": "code",
   "execution_count": 10,
   "metadata": {
    "execution": {
     "iopub.execute_input": "2023-04-20T04:03:38.114538Z",
     "iopub.status.busy": "2023-04-20T04:03:38.113756Z",
     "iopub.status.idle": "2023-04-20T04:03:38.146445Z",
     "shell.execute_reply": "2023-04-20T04:03:38.145866Z"
    },
    "papermill": {
     "duration": 0.049624,
     "end_time": "2023-04-20T04:03:38.146589",
     "exception": false,
     "start_time": "2023-04-20T04:03:38.096965",
     "status": "completed"
    },
    "tags": []
   },
   "outputs": [
    {
     "name": "stdout",
     "output_type": "stream",
     "text": [
      "          X         Y\n",
      "0  0.000000  0.007126\n",
      "1  0.187500  0.078385\n",
      "2  0.337500  0.135392\n",
      "3  0.487500  0.192399\n",
      "4  0.646875  0.249406\n"
     ]
    }
   ],
   "source": [
    "import pandas as pd\n",
    "\n",
    "# Read data from text file into a pandas DataFrame\n",
    "df = pd.read_csv('/kaggle/input/poiseuillecrackpressure/pouya2010pressureAroundPoiseuilleCrack_fig5_lambda05.txt', delimiter='\\t')\n",
    "# Print the first 5 rows of the DataFrame to check if it was read correctly\n",
    "print(df.head())"
   ]
  },
  {
   "cell_type": "code",
   "execution_count": 11,
   "metadata": {
    "execution": {
     "iopub.execute_input": "2023-04-20T04:03:38.182409Z",
     "iopub.status.busy": "2023-04-20T04:03:38.181603Z",
     "iopub.status.idle": "2023-04-20T04:03:38.184469Z",
     "shell.execute_reply": "2023-04-20T04:03:38.185042Z"
    },
    "papermill": {
     "duration": 0.024684,
     "end_time": "2023-04-20T04:03:38.185229",
     "exception": false,
     "start_time": "2023-04-20T04:03:38.160545",
     "status": "completed"
    },
    "tags": []
   },
   "outputs": [],
   "source": [
    "# Extract data along fracture line\n",
    "# fracture_extention = generate_fracture(x,y,nx,ny, tip1, tip2, withoutExtension = False, verbose=0):\n",
    "\n",
    "\n",
    "# Extract a long the vertical middle line\n",
    "p_TFVM = []\n",
    "y_TFVM = []\n",
    "\n",
    "for i in range(0, ny):\n",
    "    p_TFVM.append(p[int(nx/2)][i])\n",
    "    y_TFVM.append(y[int(nx/2)][i])"
   ]
  },
  {
   "cell_type": "code",
   "execution_count": 12,
   "metadata": {
    "execution": {
     "iopub.execute_input": "2023-04-20T04:03:38.218014Z",
     "iopub.status.busy": "2023-04-20T04:03:38.217250Z",
     "iopub.status.idle": "2023-04-20T04:03:38.399653Z",
     "shell.execute_reply": "2023-04-20T04:03:38.398966Z"
    },
    "papermill": {
     "duration": 0.200449,
     "end_time": "2023-04-20T04:03:38.399779",
     "exception": false,
     "start_time": "2023-04-20T04:03:38.199330",
     "status": "completed"
    },
    "tags": []
   },
   "outputs": [
    {
     "data": {
      "image/png": "[encoded data removed]",
      "text/plain": [
       "<Figure size 504x360 with 1 Axes>"
      ]
     },
     "metadata": {
      "needs_background": "light"
     },
     "output_type": "display_data"
    }
   ],
   "source": [
    "fig = plt.figure(figsize=[7.,5])\n",
    "\n",
    "plt.subplot(111)\n",
    "plt.plot(y_TFVM,p_TFVM,'ko',label='This model')\n",
    "\n",
    "y_anal = np.linspace(-Ly/2,Ly/2,1000)\n",
    "#plt.plot(y_anal, analytic2D(ell, 0, y_anal) ,'r-',linewidth=3,label='Analytic')\n",
    "plt.plot(df['X'],df['Y'],'r-',linewidth=3,label='Pouya and Ghabezloo (2010)')\n",
    "\n",
    "plt.xlabel('y (m)')\n",
    "plt.ylabel('Pore pressure')\n",
    "plt.xlim(0,3)\n",
    "plt.ylim(0,3)\n",
    "plt.legend()\n",
    "plt.show()"
   ]
  },
  {
   "cell_type": "code",
   "execution_count": 13,
   "metadata": {
    "execution": {
     "iopub.execute_input": "2023-04-20T04:03:38.438093Z",
     "iopub.status.busy": "2023-04-20T04:03:38.437309Z",
     "iopub.status.idle": "2023-04-20T04:03:38.440706Z",
     "shell.execute_reply": "2023-04-20T04:03:38.440166Z"
    },
    "papermill": {
     "duration": 0.025634,
     "end_time": "2023-04-20T04:03:38.440839",
     "exception": false,
     "start_time": "2023-04-20T04:03:38.415205",
     "status": "completed"
    },
    "tags": []
   },
   "outputs": [],
   "source": [
    "# Geometry\n",
    "dx = Lx/(nx-1)\n",
    "dy = Ly/(ny-1)\n",
    "xb, yb = np.mgrid[-(Lx/2.+dx/2):(Lx/2.+dx/2):(nx+1)*1j, -(Ly/2.+dy/2):(Ly/2.+dy/2):(ny+1)*1j] # this is coordinates of cell boundaries\n"
   ]
  },
  {
   "cell_type": "code",
   "execution_count": 14,
   "metadata": {
    "execution": {
     "iopub.execute_input": "2023-04-20T04:03:38.484745Z",
     "iopub.status.busy": "2023-04-20T04:03:38.479891Z",
     "iopub.status.idle": "2023-04-20T04:03:39.158393Z",
     "shell.execute_reply": "2023-04-20T04:03:39.157706Z"
    },
    "papermill": {
     "duration": 0.702326,
     "end_time": "2023-04-20T04:03:39.158520",
     "exception": false,
     "start_time": "2023-04-20T04:03:38.456194",
     "status": "completed"
    },
    "tags": []
   },
   "outputs": [
    {
     "data": {
      "image/png": "[encoded data removed]",
      "text/plain": [
       "<Figure size 360x360 with 1 Axes>"
      ]
     },
     "metadata": {
      "needs_background": "light"
     },
     "output_type": "display_data"
    }
   ],
   "source": [
    "plt.figure(figsize=(Lx/2,Ly/2))\n",
    "\n",
    "plt.plot(xb,yb, 'k')\n",
    "plt.plot(xb.T,yb.T, 'k')\n",
    "plt.plot(x,y, 'k--')\n",
    "plt.plot(x.T,y.T, 'k--')\n",
    "\n",
    "# Fracture\n",
    "tip1 = [-1,-1]\n",
    "tip2 = [1.1,1]\n",
    "plt.plot([tip1[0], tip2[0]], [tip1[1], tip2[1]], 'r')\n",
    "\n",
    "plt.show()"
   ]
  },
  {
   "cell_type": "code",
   "execution_count": 15,
   "metadata": {
    "execution": {
     "iopub.execute_input": "2023-04-20T04:03:39.204806Z",
     "iopub.status.busy": "2023-04-20T04:03:39.199691Z",
     "iopub.status.idle": "2023-04-20T04:03:39.287106Z",
     "shell.execute_reply": "2023-04-20T04:03:39.286440Z"
    },
    "papermill": {
     "duration": 0.112155,
     "end_time": "2023-04-20T04:03:39.287229",
     "exception": false,
     "start_time": "2023-04-20T04:03:39.175074",
     "status": "completed"
    },
    "tags": []
   },
   "outputs": [
    {
     "name": "stdout",
     "output_type": "stream",
     "text": [
      "[[40, 40], [41, 41], [42, 42], [43, 42], [43, 43], [44, 43], [44, 44], [45, 44], [45, 45], [46, 45], [46, 46], [47, 46], [47, 47], [48, 47], [48, 48], [49, 48], [49, 49], [50, 49], [50, 50], [51, 50], [51, 51], [52, 51], [52, 52], [53, 52], [53, 53], [54, 53], [54, 54], [55, 54], [55, 55], [56, 55], [56, 56], [57, 56], [57, 57], [58, 57], [58, 58], [59, 58], [60, 59], [61, 60]]\n"
     ]
    }
   ],
   "source": [
    "fracture_1 = generate_fracture(x,y,nx,ny, tip1, tip2)\n",
    "print(fracture_1)"
   ]
  },
  {
   "cell_type": "code",
   "execution_count": null,
   "metadata": {
    "papermill": {
     "duration": 0.017291,
     "end_time": "2023-04-20T04:03:39.320831",
     "exception": false,
     "start_time": "2023-04-20T04:03:39.303540",
     "status": "completed"
    },
    "tags": []
   },
   "outputs": [],
   "source": []
  },
  {
   "cell_type": "code",
   "execution_count": null,
   "metadata": {
    "papermill": {
     "duration": 0.01589,
     "end_time": "2023-04-20T04:03:39.353171",
     "exception": false,
     "start_time": "2023-04-20T04:03:39.337281",
     "status": "completed"
    },
    "tags": []
   },
   "outputs": [],
   "source": []
  }
 ],
 "metadata": {
  "kernelspec": {
   "display_name": "Python 3",
   "language": "python",
   "name": "python3"
  },
  "language_info": {
   "codemirror_mode": {
    "name": "ipython",
    "version": 3
   },
   "file_extension": ".py",
   "mimetype": "text/x-python",
   "name": "python",
   "nbconvert_exporter": "python",
   "pygments_lexer": "ipython3",
   "version": "3.7.6"
  },
  "papermill": {
   "duration": 19.596667,
   "end_time": "2023-04-20T04:03:39.477146",
   "environment_variables": {},
   "exception": null,
   "input_path": "__notebook__.ipynb",
   "output_path": "__notebook__.ipynb",
   "parameters": {},
   "start_time": "2023-04-20T04:03:19.880479",
   "version": "2.1.0"
  }
 },
 "nbformat": 4,
 "nbformat_minor": 4
}
